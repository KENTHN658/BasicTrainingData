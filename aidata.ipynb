{
  "cells": [
    {
      "cell_type": "code",
      "execution_count": null,
      "metadata": {
        "id": "q0yd7cmGDuIQ"
      },
      "outputs": [],
      "source": [
        "import pandas as pd\n",
        "import numpy as np\n",
        "from sklearn import tree # for decision tree\n",
        "from sklearn.naive_bayes import GaussianNB # Naive Bayes Model\n",
        "from sklearn.neural_network import MLPClassifier # Multilayer Perceptron\n",
        "from sklearn.neighbors import KNeighborsClassifier # kNN\n",
        "import sklearn.svm as svm # SVM\n",
        "import seaborn as sns\n",
        "\n",
        "# Ensemble Models\n",
        "from sklearn.ensemble import BaggingClassifier, RandomForestClassifier, AdaBoostClassifier\n",
        "\n",
        "# Data\n",
        "from sklearn.datasets import load_iris\n",
        "\n",
        "# Training-testing set splitting\n",
        "from sklearn.model_selection import train_test_split\n",
        "from sklearn.model_selection import cross_val_score\n",
        "\n",
        "# Confusion Matrix for Visualization\n",
        "from sklearn.metrics import confusion_matrix, ConfusionMatrixDisplay\n",
        "from sklearn.metrics import classification_report\n",
        "\n",
        "# for saving/loading models\n",
        "import pickle\n",
        "\n",
        "import matplotlib.pyplot as plt # for plotting"
      ]
    },
    {
      "cell_type": "markdown",
      "source": [
        "#การนำข้อมูลเข้าและแปลงข้อมูลเป็นตัวเลขเพื่อทำการทดสอบ"
      ],
      "metadata": {
        "id": "BuxRra82UlS2"
      }
    },
    {
      "cell_type": "markdown",
      "source": [
        "เป็นการเชื่อม colab เข้ากับ drive"
      ],
      "metadata": {
        "id": "6OO4FomPUve3"
      }
    },
    {
      "cell_type": "code",
      "execution_count": null,
      "metadata": {
        "colab": {
          "base_uri": "https://localhost:8080/"
        },
        "id": "WCF7xapmLZel",
        "outputId": "0e975087-d55f-4819-b90d-abcc20a8ff05"
      },
      "outputs": [
        {
          "output_type": "stream",
          "name": "stdout",
          "text": [
            "Mounted at /content/drive\n"
          ]
        }
      ],
      "source": [
        "from google.colab import drive\n",
        "drive.mount('/content/drive')"
      ]
    },
    {
      "cell_type": "code",
      "execution_count": null,
      "metadata": {
        "id": "nsk_LrzoLc1S"
      },
      "outputs": [],
      "source": [
        "df = pd.read_csv('/content/drive/MyDrive/credit_card_approval.csv')"
      ]
    },
    {
      "cell_type": "markdown",
      "source": [
        "เราสนใจ Target จึงทำการดูว่า กลุ่มเป้าหมายมีกี่กลุ่ม"
      ],
      "metadata": {
        "id": "7m6aAiryVkn0"
      }
    },
    {
      "cell_type": "code",
      "execution_count": null,
      "metadata": {
        "colab": {
          "base_uri": "https://localhost:8080/"
        },
        "id": "CQfMbFiC2NfJ",
        "outputId": "248aebe1-b1c5-47cf-f6e3-bcdb778940d4"
      },
      "outputs": [
        {
          "output_type": "execute_result",
          "data": {
            "text/plain": [
              "0    535705\n",
              "1      1962\n",
              "Name: TARGET, dtype: int64"
            ]
          },
          "metadata": {},
          "execution_count": 4
        }
      ],
      "source": [
        "df.TARGET.value_counts()"
      ]
    },
    {
      "cell_type": "markdown",
      "source": [
        "ทำการดูว่าข้อมูลมีกี่ columns และ ข้อมูลเป็นชนิดอะไร"
      ],
      "metadata": {
        "id": "7-Dne9eIVvU5"
      }
    },
    {
      "cell_type": "code",
      "execution_count": null,
      "metadata": {
        "colab": {
          "base_uri": "https://localhost:8080/"
        },
        "id": "Ea_-PHGv5HJR",
        "outputId": "d33092a6-99ab-410a-df9e-8679bc06b7f3"
      },
      "outputs": [
        {
          "output_type": "stream",
          "name": "stdout",
          "text": [
            "<class 'pandas.core.frame.DataFrame'>\n",
            "RangeIndex: 537667 entries, 0 to 537666\n",
            "Data columns (total 19 columns):\n",
            " #   Column               Non-Null Count   Dtype  \n",
            "---  ------               --------------   -----  \n",
            " 0   ID                   537667 non-null  int64  \n",
            " 1   CODE_GENDER          537667 non-null  object \n",
            " 2   FLAG_OWN_CAR         537667 non-null  object \n",
            " 3   FLAG_OWN_REALTY      537667 non-null  object \n",
            " 4   CNT_CHILDREN         537667 non-null  object \n",
            " 5   AMT_INCOME_TOTAL     537667 non-null  float64\n",
            " 6   NAME_EDUCATION_TYPE  537667 non-null  object \n",
            " 7   NAME_FAMILY_STATUS   537667 non-null  object \n",
            " 8   NAME_HOUSING_TYPE    537667 non-null  object \n",
            " 9   DAYS_BIRTH           537667 non-null  int64  \n",
            " 10  DAYS_EMPLOYED        537667 non-null  int64  \n",
            " 11  FLAG_MOBIL           537667 non-null  int64  \n",
            " 12  FLAG_WORK_PHONE      537667 non-null  int64  \n",
            " 13  FLAG_PHONE           537667 non-null  int64  \n",
            " 14  FLAG_EMAIL           537667 non-null  int64  \n",
            " 15  JOB                  537667 non-null  object \n",
            " 16  BEGIN_MONTHS         537667 non-null  int64  \n",
            " 17  STATUS               537667 non-null  object \n",
            " 18  TARGET               537667 non-null  int64  \n",
            "dtypes: float64(1), int64(9), object(9)\n",
            "memory usage: 77.9+ MB\n"
          ]
        }
      ],
      "source": [
        "df.info()"
      ]
    },
    {
      "cell_type": "markdown",
      "source": [
        "ทำการดูความสัมพันธ์ระหว่างตัวแปร"
      ],
      "metadata": {
        "id": "2inOizYgWdjm"
      }
    },
    {
      "cell_type": "code",
      "execution_count": null,
      "metadata": {
        "colab": {
          "base_uri": "https://localhost:8080/",
          "height": 363
        },
        "id": "5G10fjViB-4f",
        "outputId": "5eda6694-06a4-4d19-b073-83d894d6ca99"
      },
      "outputs": [
        {
          "output_type": "execute_result",
          "data": {
            "text/plain": [
              "                        ID  AMT_INCOME_TOTAL  DAYS_BIRTH  DAYS_EMPLOYED  \\\n",
              "ID                1.000000         -0.024915    0.029609       0.014325   \n",
              "AMT_INCOME_TOTAL -0.024915          1.000000   -0.047838      -0.009500   \n",
              "DAYS_BIRTH        0.029609         -0.047838    1.000000       0.324231   \n",
              "DAYS_EMPLOYED     0.014325         -0.009500    0.324231       1.000000   \n",
              "FLAG_MOBIL             NaN               NaN         NaN            NaN   \n",
              "FLAG_WORK_PHONE   0.098981         -0.078836    0.041483       0.003695   \n",
              "FLAG_PHONE        0.014584          0.007914   -0.030423      -0.026980   \n",
              "FLAG_EMAIL       -0.072886          0.067699    0.055471       0.041690   \n",
              "BEGIN_MONTHS      0.004673         -0.001829    0.051247       0.044414   \n",
              "TARGET            0.016717          0.002887   -0.005401       0.019230   \n",
              "\n",
              "                  FLAG_MOBIL  FLAG_WORK_PHONE  FLAG_PHONE  FLAG_EMAIL  \\\n",
              "ID                       NaN         0.098981    0.014584   -0.072886   \n",
              "AMT_INCOME_TOTAL         NaN        -0.078836    0.007914    0.067699   \n",
              "DAYS_BIRTH               NaN         0.041483   -0.030423    0.055471   \n",
              "DAYS_EMPLOYED            NaN         0.003695   -0.026980    0.041690   \n",
              "FLAG_MOBIL               NaN              NaN         NaN         NaN   \n",
              "FLAG_WORK_PHONE          NaN         1.000000    0.372385   -0.069643   \n",
              "FLAG_PHONE               NaN         0.372385    1.000000    0.014056   \n",
              "FLAG_EMAIL               NaN        -0.069643    0.014056    1.000000   \n",
              "BEGIN_MONTHS             NaN        -0.002339   -0.007564    0.005860   \n",
              "TARGET                   NaN         0.004353    0.008663   -0.001807   \n",
              "\n",
              "                  BEGIN_MONTHS    TARGET  \n",
              "ID                    0.004673  0.016717  \n",
              "AMT_INCOME_TOTAL     -0.001829  0.002887  \n",
              "DAYS_BIRTH            0.051247 -0.005401  \n",
              "DAYS_EMPLOYED         0.044414  0.019230  \n",
              "FLAG_MOBIL                 NaN       NaN  \n",
              "FLAG_WORK_PHONE      -0.002339  0.004353  \n",
              "FLAG_PHONE           -0.007564  0.008663  \n",
              "FLAG_EMAIL            0.005860 -0.001807  \n",
              "BEGIN_MONTHS          1.000000 -0.001646  \n",
              "TARGET               -0.001646  1.000000  "
            ],
            "text/html": [
              "\n",
              "  <div id=\"df-80da7a2f-f0c3-4a24-ad5d-ae2f5e1683de\">\n",
              "    <div class=\"colab-df-container\">\n",
              "      <div>\n",
              "<style scoped>\n",
              "    .dataframe tbody tr th:only-of-type {\n",
              "        vertical-align: middle;\n",
              "    }\n",
              "\n",
              "    .dataframe tbody tr th {\n",
              "        vertical-align: top;\n",
              "    }\n",
              "\n",
              "    .dataframe thead th {\n",
              "        text-align: right;\n",
              "    }\n",
              "</style>\n",
              "<table border=\"1\" class=\"dataframe\">\n",
              "  <thead>\n",
              "    <tr style=\"text-align: right;\">\n",
              "      <th></th>\n",
              "      <th>ID</th>\n",
              "      <th>AMT_INCOME_TOTAL</th>\n",
              "      <th>DAYS_BIRTH</th>\n",
              "      <th>DAYS_EMPLOYED</th>\n",
              "      <th>FLAG_MOBIL</th>\n",
              "      <th>FLAG_WORK_PHONE</th>\n",
              "      <th>FLAG_PHONE</th>\n",
              "      <th>FLAG_EMAIL</th>\n",
              "      <th>BEGIN_MONTHS</th>\n",
              "      <th>TARGET</th>\n",
              "    </tr>\n",
              "  </thead>\n",
              "  <tbody>\n",
              "    <tr>\n",
              "      <th>ID</th>\n",
              "      <td>1.000000</td>\n",
              "      <td>-0.024915</td>\n",
              "      <td>0.029609</td>\n",
              "      <td>0.014325</td>\n",
              "      <td>NaN</td>\n",
              "      <td>0.098981</td>\n",
              "      <td>0.014584</td>\n",
              "      <td>-0.072886</td>\n",
              "      <td>0.004673</td>\n",
              "      <td>0.016717</td>\n",
              "    </tr>\n",
              "    <tr>\n",
              "      <th>AMT_INCOME_TOTAL</th>\n",
              "      <td>-0.024915</td>\n",
              "      <td>1.000000</td>\n",
              "      <td>-0.047838</td>\n",
              "      <td>-0.009500</td>\n",
              "      <td>NaN</td>\n",
              "      <td>-0.078836</td>\n",
              "      <td>0.007914</td>\n",
              "      <td>0.067699</td>\n",
              "      <td>-0.001829</td>\n",
              "      <td>0.002887</td>\n",
              "    </tr>\n",
              "    <tr>\n",
              "      <th>DAYS_BIRTH</th>\n",
              "      <td>0.029609</td>\n",
              "      <td>-0.047838</td>\n",
              "      <td>1.000000</td>\n",
              "      <td>0.324231</td>\n",
              "      <td>NaN</td>\n",
              "      <td>0.041483</td>\n",
              "      <td>-0.030423</td>\n",
              "      <td>0.055471</td>\n",
              "      <td>0.051247</td>\n",
              "      <td>-0.005401</td>\n",
              "    </tr>\n",
              "    <tr>\n",
              "      <th>DAYS_EMPLOYED</th>\n",
              "      <td>0.014325</td>\n",
              "      <td>-0.009500</td>\n",
              "      <td>0.324231</td>\n",
              "      <td>1.000000</td>\n",
              "      <td>NaN</td>\n",
              "      <td>0.003695</td>\n",
              "      <td>-0.026980</td>\n",
              "      <td>0.041690</td>\n",
              "      <td>0.044414</td>\n",
              "      <td>0.019230</td>\n",
              "    </tr>\n",
              "    <tr>\n",
              "      <th>FLAG_MOBIL</th>\n",
              "      <td>NaN</td>\n",
              "      <td>NaN</td>\n",
              "      <td>NaN</td>\n",
              "      <td>NaN</td>\n",
              "      <td>NaN</td>\n",
              "      <td>NaN</td>\n",
              "      <td>NaN</td>\n",
              "      <td>NaN</td>\n",
              "      <td>NaN</td>\n",
              "      <td>NaN</td>\n",
              "    </tr>\n",
              "    <tr>\n",
              "      <th>FLAG_WORK_PHONE</th>\n",
              "      <td>0.098981</td>\n",
              "      <td>-0.078836</td>\n",
              "      <td>0.041483</td>\n",
              "      <td>0.003695</td>\n",
              "      <td>NaN</td>\n",
              "      <td>1.000000</td>\n",
              "      <td>0.372385</td>\n",
              "      <td>-0.069643</td>\n",
              "      <td>-0.002339</td>\n",
              "      <td>0.004353</td>\n",
              "    </tr>\n",
              "    <tr>\n",
              "      <th>FLAG_PHONE</th>\n",
              "      <td>0.014584</td>\n",
              "      <td>0.007914</td>\n",
              "      <td>-0.030423</td>\n",
              "      <td>-0.026980</td>\n",
              "      <td>NaN</td>\n",
              "      <td>0.372385</td>\n",
              "      <td>1.000000</td>\n",
              "      <td>0.014056</td>\n",
              "      <td>-0.007564</td>\n",
              "      <td>0.008663</td>\n",
              "    </tr>\n",
              "    <tr>\n",
              "      <th>FLAG_EMAIL</th>\n",
              "      <td>-0.072886</td>\n",
              "      <td>0.067699</td>\n",
              "      <td>0.055471</td>\n",
              "      <td>0.041690</td>\n",
              "      <td>NaN</td>\n",
              "      <td>-0.069643</td>\n",
              "      <td>0.014056</td>\n",
              "      <td>1.000000</td>\n",
              "      <td>0.005860</td>\n",
              "      <td>-0.001807</td>\n",
              "    </tr>\n",
              "    <tr>\n",
              "      <th>BEGIN_MONTHS</th>\n",
              "      <td>0.004673</td>\n",
              "      <td>-0.001829</td>\n",
              "      <td>0.051247</td>\n",
              "      <td>0.044414</td>\n",
              "      <td>NaN</td>\n",
              "      <td>-0.002339</td>\n",
              "      <td>-0.007564</td>\n",
              "      <td>0.005860</td>\n",
              "      <td>1.000000</td>\n",
              "      <td>-0.001646</td>\n",
              "    </tr>\n",
              "    <tr>\n",
              "      <th>TARGET</th>\n",
              "      <td>0.016717</td>\n",
              "      <td>0.002887</td>\n",
              "      <td>-0.005401</td>\n",
              "      <td>0.019230</td>\n",
              "      <td>NaN</td>\n",
              "      <td>0.004353</td>\n",
              "      <td>0.008663</td>\n",
              "      <td>-0.001807</td>\n",
              "      <td>-0.001646</td>\n",
              "      <td>1.000000</td>\n",
              "    </tr>\n",
              "  </tbody>\n",
              "</table>\n",
              "</div>\n",
              "      <button class=\"colab-df-convert\" onclick=\"convertToInteractive('df-80da7a2f-f0c3-4a24-ad5d-ae2f5e1683de')\"\n",
              "              title=\"Convert this dataframe to an interactive table.\"\n",
              "              style=\"display:none;\">\n",
              "        \n",
              "  <svg xmlns=\"http://www.w3.org/2000/svg\" height=\"24px\"viewBox=\"0 0 24 24\"\n",
              "       width=\"24px\">\n",
              "    <path d=\"M0 0h24v24H0V0z\" fill=\"none\"/>\n",
              "    <path d=\"M18.56 5.44l.94 2.06.94-2.06 2.06-.94-2.06-.94-.94-2.06-.94 2.06-2.06.94zm-11 1L8.5 8.5l.94-2.06 2.06-.94-2.06-.94L8.5 2.5l-.94 2.06-2.06.94zm10 10l.94 2.06.94-2.06 2.06-.94-2.06-.94-.94-2.06-.94 2.06-2.06.94z\"/><path d=\"M17.41 7.96l-1.37-1.37c-.4-.4-.92-.59-1.43-.59-.52 0-1.04.2-1.43.59L10.3 9.45l-7.72 7.72c-.78.78-.78 2.05 0 2.83L4 21.41c.39.39.9.59 1.41.59.51 0 1.02-.2 1.41-.59l7.78-7.78 2.81-2.81c.8-.78.8-2.07 0-2.86zM5.41 20L4 18.59l7.72-7.72 1.47 1.35L5.41 20z\"/>\n",
              "  </svg>\n",
              "      </button>\n",
              "      \n",
              "  <style>\n",
              "    .colab-df-container {\n",
              "      display:flex;\n",
              "      flex-wrap:wrap;\n",
              "      gap: 12px;\n",
              "    }\n",
              "\n",
              "    .colab-df-convert {\n",
              "      background-color: #E8F0FE;\n",
              "      border: none;\n",
              "      border-radius: 50%;\n",
              "      cursor: pointer;\n",
              "      display: none;\n",
              "      fill: #1967D2;\n",
              "      height: 32px;\n",
              "      padding: 0 0 0 0;\n",
              "      width: 32px;\n",
              "    }\n",
              "\n",
              "    .colab-df-convert:hover {\n",
              "      background-color: #E2EBFA;\n",
              "      box-shadow: 0px 1px 2px rgba(60, 64, 67, 0.3), 0px 1px 3px 1px rgba(60, 64, 67, 0.15);\n",
              "      fill: #174EA6;\n",
              "    }\n",
              "\n",
              "    [theme=dark] .colab-df-convert {\n",
              "      background-color: #3B4455;\n",
              "      fill: #D2E3FC;\n",
              "    }\n",
              "\n",
              "    [theme=dark] .colab-df-convert:hover {\n",
              "      background-color: #434B5C;\n",
              "      box-shadow: 0px 1px 3px 1px rgba(0, 0, 0, 0.15);\n",
              "      filter: drop-shadow(0px 1px 2px rgba(0, 0, 0, 0.3));\n",
              "      fill: #FFFFFF;\n",
              "    }\n",
              "  </style>\n",
              "\n",
              "      <script>\n",
              "        const buttonEl =\n",
              "          document.querySelector('#df-80da7a2f-f0c3-4a24-ad5d-ae2f5e1683de button.colab-df-convert');\n",
              "        buttonEl.style.display =\n",
              "          google.colab.kernel.accessAllowed ? 'block' : 'none';\n",
              "\n",
              "        async function convertToInteractive(key) {\n",
              "          const element = document.querySelector('#df-80da7a2f-f0c3-4a24-ad5d-ae2f5e1683de');\n",
              "          const dataTable =\n",
              "            await google.colab.kernel.invokeFunction('convertToInteractive',\n",
              "                                                     [key], {});\n",
              "          if (!dataTable) return;\n",
              "\n",
              "          const docLinkHtml = 'Like what you see? Visit the ' +\n",
              "            '<a target=\"_blank\" href=https://colab.research.google.com/notebooks/data_table.ipynb>data table notebook</a>'\n",
              "            + ' to learn more about interactive tables.';\n",
              "          element.innerHTML = '';\n",
              "          dataTable['output_type'] = 'display_data';\n",
              "          await google.colab.output.renderOutput(dataTable, element);\n",
              "          const docLink = document.createElement('div');\n",
              "          docLink.innerHTML = docLinkHtml;\n",
              "          element.appendChild(docLink);\n",
              "        }\n",
              "      </script>\n",
              "    </div>\n",
              "  </div>\n",
              "  "
            ]
          },
          "metadata": {},
          "execution_count": 6
        }
      ],
      "source": [
        "df.corr()"
      ]
    },
    {
      "cell_type": "code",
      "execution_count": null,
      "metadata": {
        "colab": {
          "base_uri": "https://localhost:8080/",
          "height": 678
        },
        "id": "-5-P4jxlC_Hp",
        "outputId": "dc0aa432-3af7-492d-c5f8-f4a2cea8533c"
      },
      "outputs": [
        {
          "output_type": "execute_result",
          "data": {
            "text/plain": [
              "             ID CODE_GENDER FLAG_OWN_CAR FLAG_OWN_REALTY CNT_CHILDREN  \\\n",
              "0       5065438           F            Y               N  2+ children   \n",
              "1       5142753           F            N               N  No children   \n",
              "2       5111146           M            Y               Y  No children   \n",
              "3       5010310           F            Y               Y   1 children   \n",
              "4       5010835           M            Y               Y  2+ children   \n",
              "...         ...         ...          ...             ...          ...   \n",
              "537662  5142999           M            Y               N   1 children   \n",
              "537663  5010773           F            N               Y  No children   \n",
              "537664  5105601           M            N               Y  No children   \n",
              "537665  5132833           M            Y               N  No children   \n",
              "537666  5135381           F            N               Y  No children   \n",
              "\n",
              "        AMT_INCOME_TOTAL            NAME_EDUCATION_TYPE    NAME_FAMILY_STATUS  \\\n",
              "0               270000.0  Secondary / secondary special               Married   \n",
              "1                81000.0  Secondary / secondary special  Single / not married   \n",
              "2               270000.0               Higher education               Married   \n",
              "3               112500.0  Secondary / secondary special               Married   \n",
              "4               139500.0  Secondary / secondary special               Married   \n",
              "...                  ...                            ...                   ...   \n",
              "537662          166500.0  Secondary / secondary special               Married   \n",
              "537663          135000.0               Higher education               Married   \n",
              "537664          180000.0               Higher education               Married   \n",
              "537665          220500.0  Secondary / secondary special               Married   \n",
              "537666          387000.0  Secondary / secondary special               Married   \n",
              "\n",
              "        NAME_HOUSING_TYPE  DAYS_BIRTH  DAYS_EMPLOYED  FLAG_MOBIL  \\\n",
              "0            With parents      -13258          -2300           1   \n",
              "1       House / apartment      -17876           -377           1   \n",
              "2       House / apartment      -19579          -1028           1   \n",
              "3       House / apartment      -15109          -1956           1   \n",
              "4       House / apartment      -17281          -5578           1   \n",
              "...                   ...         ...            ...         ...   \n",
              "537662       With parents      -12372          -5401           1   \n",
              "537663       With parents      -14160          -4635           1   \n",
              "537664  House / apartment      -24204          -2462           1   \n",
              "537665  House / apartment      -22647          -3847           1   \n",
              "537666  House / apartment      -20082          -4979           1   \n",
              "\n",
              "        FLAG_WORK_PHONE  FLAG_PHONE  FLAG_EMAIL                    JOB  \\\n",
              "0                     0           0           0               Managers   \n",
              "1                     1           1           0  Private service staff   \n",
              "2                     0           1           0               Laborers   \n",
              "3                     0           0           0             Core staff   \n",
              "4                     1           0           0                Drivers   \n",
              "...                 ...         ...         ...                    ...   \n",
              "537662                0           1           0             Core staff   \n",
              "537663                0           0           0            Sales staff   \n",
              "537664                0           0           0  Private service staff   \n",
              "537665                0           1           0               Laborers   \n",
              "537666                0           0           0            Sales staff   \n",
              "\n",
              "        BEGIN_MONTHS STATUS  TARGET  \n",
              "0                 -6      C       0  \n",
              "1                 -4      0       0  \n",
              "2                  0      C       0  \n",
              "3                 -3      0       0  \n",
              "4                -29      0       0  \n",
              "...              ...    ...     ...  \n",
              "537662            -8      0       0  \n",
              "537663            -8      0       0  \n",
              "537664            -7      0       0  \n",
              "537665            -1      0       0  \n",
              "537666           -45      C       0  \n",
              "\n",
              "[537667 rows x 19 columns]"
            ],
            "text/html": [
              "\n",
              "  <div id=\"df-33ca6aea-b1b2-4964-ab26-3b42b1adefea\">\n",
              "    <div class=\"colab-df-container\">\n",
              "      <div>\n",
              "<style scoped>\n",
              "    .dataframe tbody tr th:only-of-type {\n",
              "        vertical-align: middle;\n",
              "    }\n",
              "\n",
              "    .dataframe tbody tr th {\n",
              "        vertical-align: top;\n",
              "    }\n",
              "\n",
              "    .dataframe thead th {\n",
              "        text-align: right;\n",
              "    }\n",
              "</style>\n",
              "<table border=\"1\" class=\"dataframe\">\n",
              "  <thead>\n",
              "    <tr style=\"text-align: right;\">\n",
              "      <th></th>\n",
              "      <th>ID</th>\n",
              "      <th>CODE_GENDER</th>\n",
              "      <th>FLAG_OWN_CAR</th>\n",
              "      <th>FLAG_OWN_REALTY</th>\n",
              "      <th>CNT_CHILDREN</th>\n",
              "      <th>AMT_INCOME_TOTAL</th>\n",
              "      <th>NAME_EDUCATION_TYPE</th>\n",
              "      <th>NAME_FAMILY_STATUS</th>\n",
              "      <th>NAME_HOUSING_TYPE</th>\n",
              "      <th>DAYS_BIRTH</th>\n",
              "      <th>DAYS_EMPLOYED</th>\n",
              "      <th>FLAG_MOBIL</th>\n",
              "      <th>FLAG_WORK_PHONE</th>\n",
              "      <th>FLAG_PHONE</th>\n",
              "      <th>FLAG_EMAIL</th>\n",
              "      <th>JOB</th>\n",
              "      <th>BEGIN_MONTHS</th>\n",
              "      <th>STATUS</th>\n",
              "      <th>TARGET</th>\n",
              "    </tr>\n",
              "  </thead>\n",
              "  <tbody>\n",
              "    <tr>\n",
              "      <th>0</th>\n",
              "      <td>5065438</td>\n",
              "      <td>F</td>\n",
              "      <td>Y</td>\n",
              "      <td>N</td>\n",
              "      <td>2+ children</td>\n",
              "      <td>270000.0</td>\n",
              "      <td>Secondary / secondary special</td>\n",
              "      <td>Married</td>\n",
              "      <td>With parents</td>\n",
              "      <td>-13258</td>\n",
              "      <td>-2300</td>\n",
              "      <td>1</td>\n",
              "      <td>0</td>\n",
              "      <td>0</td>\n",
              "      <td>0</td>\n",
              "      <td>Managers</td>\n",
              "      <td>-6</td>\n",
              "      <td>C</td>\n",
              "      <td>0</td>\n",
              "    </tr>\n",
              "    <tr>\n",
              "      <th>1</th>\n",
              "      <td>5142753</td>\n",
              "      <td>F</td>\n",
              "      <td>N</td>\n",
              "      <td>N</td>\n",
              "      <td>No children</td>\n",
              "      <td>81000.0</td>\n",
              "      <td>Secondary / secondary special</td>\n",
              "      <td>Single / not married</td>\n",
              "      <td>House / apartment</td>\n",
              "      <td>-17876</td>\n",
              "      <td>-377</td>\n",
              "      <td>1</td>\n",
              "      <td>1</td>\n",
              "      <td>1</td>\n",
              "      <td>0</td>\n",
              "      <td>Private service staff</td>\n",
              "      <td>-4</td>\n",
              "      <td>0</td>\n",
              "      <td>0</td>\n",
              "    </tr>\n",
              "    <tr>\n",
              "      <th>2</th>\n",
              "      <td>5111146</td>\n",
              "      <td>M</td>\n",
              "      <td>Y</td>\n",
              "      <td>Y</td>\n",
              "      <td>No children</td>\n",
              "      <td>270000.0</td>\n",
              "      <td>Higher education</td>\n",
              "      <td>Married</td>\n",
              "      <td>House / apartment</td>\n",
              "      <td>-19579</td>\n",
              "      <td>-1028</td>\n",
              "      <td>1</td>\n",
              "      <td>0</td>\n",
              "      <td>1</td>\n",
              "      <td>0</td>\n",
              "      <td>Laborers</td>\n",
              "      <td>0</td>\n",
              "      <td>C</td>\n",
              "      <td>0</td>\n",
              "    </tr>\n",
              "    <tr>\n",
              "      <th>3</th>\n",
              "      <td>5010310</td>\n",
              "      <td>F</td>\n",
              "      <td>Y</td>\n",
              "      <td>Y</td>\n",
              "      <td>1 children</td>\n",
              "      <td>112500.0</td>\n",
              "      <td>Secondary / secondary special</td>\n",
              "      <td>Married</td>\n",
              "      <td>House / apartment</td>\n",
              "      <td>-15109</td>\n",
              "      <td>-1956</td>\n",
              "      <td>1</td>\n",
              "      <td>0</td>\n",
              "      <td>0</td>\n",
              "      <td>0</td>\n",
              "      <td>Core staff</td>\n",
              "      <td>-3</td>\n",
              "      <td>0</td>\n",
              "      <td>0</td>\n",
              "    </tr>\n",
              "    <tr>\n",
              "      <th>4</th>\n",
              "      <td>5010835</td>\n",
              "      <td>M</td>\n",
              "      <td>Y</td>\n",
              "      <td>Y</td>\n",
              "      <td>2+ children</td>\n",
              "      <td>139500.0</td>\n",
              "      <td>Secondary / secondary special</td>\n",
              "      <td>Married</td>\n",
              "      <td>House / apartment</td>\n",
              "      <td>-17281</td>\n",
              "      <td>-5578</td>\n",
              "      <td>1</td>\n",
              "      <td>1</td>\n",
              "      <td>0</td>\n",
              "      <td>0</td>\n",
              "      <td>Drivers</td>\n",
              "      <td>-29</td>\n",
              "      <td>0</td>\n",
              "      <td>0</td>\n",
              "    </tr>\n",
              "    <tr>\n",
              "      <th>...</th>\n",
              "      <td>...</td>\n",
              "      <td>...</td>\n",
              "      <td>...</td>\n",
              "      <td>...</td>\n",
              "      <td>...</td>\n",
              "      <td>...</td>\n",
              "      <td>...</td>\n",
              "      <td>...</td>\n",
              "      <td>...</td>\n",
              "      <td>...</td>\n",
              "      <td>...</td>\n",
              "      <td>...</td>\n",
              "      <td>...</td>\n",
              "      <td>...</td>\n",
              "      <td>...</td>\n",
              "      <td>...</td>\n",
              "      <td>...</td>\n",
              "      <td>...</td>\n",
              "      <td>...</td>\n",
              "    </tr>\n",
              "    <tr>\n",
              "      <th>537662</th>\n",
              "      <td>5142999</td>\n",
              "      <td>M</td>\n",
              "      <td>Y</td>\n",
              "      <td>N</td>\n",
              "      <td>1 children</td>\n",
              "      <td>166500.0</td>\n",
              "      <td>Secondary / secondary special</td>\n",
              "      <td>Married</td>\n",
              "      <td>With parents</td>\n",
              "      <td>-12372</td>\n",
              "      <td>-5401</td>\n",
              "      <td>1</td>\n",
              "      <td>0</td>\n",
              "      <td>1</td>\n",
              "      <td>0</td>\n",
              "      <td>Core staff</td>\n",
              "      <td>-8</td>\n",
              "      <td>0</td>\n",
              "      <td>0</td>\n",
              "    </tr>\n",
              "    <tr>\n",
              "      <th>537663</th>\n",
              "      <td>5010773</td>\n",
              "      <td>F</td>\n",
              "      <td>N</td>\n",
              "      <td>Y</td>\n",
              "      <td>No children</td>\n",
              "      <td>135000.0</td>\n",
              "      <td>Higher education</td>\n",
              "      <td>Married</td>\n",
              "      <td>With parents</td>\n",
              "      <td>-14160</td>\n",
              "      <td>-4635</td>\n",
              "      <td>1</td>\n",
              "      <td>0</td>\n",
              "      <td>0</td>\n",
              "      <td>0</td>\n",
              "      <td>Sales staff</td>\n",
              "      <td>-8</td>\n",
              "      <td>0</td>\n",
              "      <td>0</td>\n",
              "    </tr>\n",
              "    <tr>\n",
              "      <th>537664</th>\n",
              "      <td>5105601</td>\n",
              "      <td>M</td>\n",
              "      <td>N</td>\n",
              "      <td>Y</td>\n",
              "      <td>No children</td>\n",
              "      <td>180000.0</td>\n",
              "      <td>Higher education</td>\n",
              "      <td>Married</td>\n",
              "      <td>House / apartment</td>\n",
              "      <td>-24204</td>\n",
              "      <td>-2462</td>\n",
              "      <td>1</td>\n",
              "      <td>0</td>\n",
              "      <td>0</td>\n",
              "      <td>0</td>\n",
              "      <td>Private service staff</td>\n",
              "      <td>-7</td>\n",
              "      <td>0</td>\n",
              "      <td>0</td>\n",
              "    </tr>\n",
              "    <tr>\n",
              "      <th>537665</th>\n",
              "      <td>5132833</td>\n",
              "      <td>M</td>\n",
              "      <td>Y</td>\n",
              "      <td>N</td>\n",
              "      <td>No children</td>\n",
              "      <td>220500.0</td>\n",
              "      <td>Secondary / secondary special</td>\n",
              "      <td>Married</td>\n",
              "      <td>House / apartment</td>\n",
              "      <td>-22647</td>\n",
              "      <td>-3847</td>\n",
              "      <td>1</td>\n",
              "      <td>0</td>\n",
              "      <td>1</td>\n",
              "      <td>0</td>\n",
              "      <td>Laborers</td>\n",
              "      <td>-1</td>\n",
              "      <td>0</td>\n",
              "      <td>0</td>\n",
              "    </tr>\n",
              "    <tr>\n",
              "      <th>537666</th>\n",
              "      <td>5135381</td>\n",
              "      <td>F</td>\n",
              "      <td>N</td>\n",
              "      <td>Y</td>\n",
              "      <td>No children</td>\n",
              "      <td>387000.0</td>\n",
              "      <td>Secondary / secondary special</td>\n",
              "      <td>Married</td>\n",
              "      <td>House / apartment</td>\n",
              "      <td>-20082</td>\n",
              "      <td>-4979</td>\n",
              "      <td>1</td>\n",
              "      <td>0</td>\n",
              "      <td>0</td>\n",
              "      <td>0</td>\n",
              "      <td>Sales staff</td>\n",
              "      <td>-45</td>\n",
              "      <td>C</td>\n",
              "      <td>0</td>\n",
              "    </tr>\n",
              "  </tbody>\n",
              "</table>\n",
              "<p>537667 rows × 19 columns</p>\n",
              "</div>\n",
              "      <button class=\"colab-df-convert\" onclick=\"convertToInteractive('df-33ca6aea-b1b2-4964-ab26-3b42b1adefea')\"\n",
              "              title=\"Convert this dataframe to an interactive table.\"\n",
              "              style=\"display:none;\">\n",
              "        \n",
              "  <svg xmlns=\"http://www.w3.org/2000/svg\" height=\"24px\"viewBox=\"0 0 24 24\"\n",
              "       width=\"24px\">\n",
              "    <path d=\"M0 0h24v24H0V0z\" fill=\"none\"/>\n",
              "    <path d=\"M18.56 5.44l.94 2.06.94-2.06 2.06-.94-2.06-.94-.94-2.06-.94 2.06-2.06.94zm-11 1L8.5 8.5l.94-2.06 2.06-.94-2.06-.94L8.5 2.5l-.94 2.06-2.06.94zm10 10l.94 2.06.94-2.06 2.06-.94-2.06-.94-.94-2.06-.94 2.06-2.06.94z\"/><path d=\"M17.41 7.96l-1.37-1.37c-.4-.4-.92-.59-1.43-.59-.52 0-1.04.2-1.43.59L10.3 9.45l-7.72 7.72c-.78.78-.78 2.05 0 2.83L4 21.41c.39.39.9.59 1.41.59.51 0 1.02-.2 1.41-.59l7.78-7.78 2.81-2.81c.8-.78.8-2.07 0-2.86zM5.41 20L4 18.59l7.72-7.72 1.47 1.35L5.41 20z\"/>\n",
              "  </svg>\n",
              "      </button>\n",
              "      \n",
              "  <style>\n",
              "    .colab-df-container {\n",
              "      display:flex;\n",
              "      flex-wrap:wrap;\n",
              "      gap: 12px;\n",
              "    }\n",
              "\n",
              "    .colab-df-convert {\n",
              "      background-color: #E8F0FE;\n",
              "      border: none;\n",
              "      border-radius: 50%;\n",
              "      cursor: pointer;\n",
              "      display: none;\n",
              "      fill: #1967D2;\n",
              "      height: 32px;\n",
              "      padding: 0 0 0 0;\n",
              "      width: 32px;\n",
              "    }\n",
              "\n",
              "    .colab-df-convert:hover {\n",
              "      background-color: #E2EBFA;\n",
              "      box-shadow: 0px 1px 2px rgba(60, 64, 67, 0.3), 0px 1px 3px 1px rgba(60, 64, 67, 0.15);\n",
              "      fill: #174EA6;\n",
              "    }\n",
              "\n",
              "    [theme=dark] .colab-df-convert {\n",
              "      background-color: #3B4455;\n",
              "      fill: #D2E3FC;\n",
              "    }\n",
              "\n",
              "    [theme=dark] .colab-df-convert:hover {\n",
              "      background-color: #434B5C;\n",
              "      box-shadow: 0px 1px 3px 1px rgba(0, 0, 0, 0.15);\n",
              "      filter: drop-shadow(0px 1px 2px rgba(0, 0, 0, 0.3));\n",
              "      fill: #FFFFFF;\n",
              "    }\n",
              "  </style>\n",
              "\n",
              "      <script>\n",
              "        const buttonEl =\n",
              "          document.querySelector('#df-33ca6aea-b1b2-4964-ab26-3b42b1adefea button.colab-df-convert');\n",
              "        buttonEl.style.display =\n",
              "          google.colab.kernel.accessAllowed ? 'block' : 'none';\n",
              "\n",
              "        async function convertToInteractive(key) {\n",
              "          const element = document.querySelector('#df-33ca6aea-b1b2-4964-ab26-3b42b1adefea');\n",
              "          const dataTable =\n",
              "            await google.colab.kernel.invokeFunction('convertToInteractive',\n",
              "                                                     [key], {});\n",
              "          if (!dataTable) return;\n",
              "\n",
              "          const docLinkHtml = 'Like what you see? Visit the ' +\n",
              "            '<a target=\"_blank\" href=https://colab.research.google.com/notebooks/data_table.ipynb>data table notebook</a>'\n",
              "            + ' to learn more about interactive tables.';\n",
              "          element.innerHTML = '';\n",
              "          dataTable['output_type'] = 'display_data';\n",
              "          await google.colab.output.renderOutput(dataTable, element);\n",
              "          const docLink = document.createElement('div');\n",
              "          docLink.innerHTML = docLinkHtml;\n",
              "          element.appendChild(docLink);\n",
              "        }\n",
              "      </script>\n",
              "    </div>\n",
              "  </div>\n",
              "  "
            ]
          },
          "metadata": {},
          "execution_count": 7
        }
      ],
      "source": [
        "df"
      ]
    },
    {
      "cell_type": "markdown",
      "source": [
        "ทำการเปลี่ยนข้อมูลให้เป็นตัวเลข เพื่อใช่ในการเทรน เอไอ"
      ],
      "metadata": {
        "id": "q43F0LLZURM3"
      }
    },
    {
      "cell_type": "code",
      "execution_count": null,
      "metadata": {
        "id": "cy1bLhDcDcZP"
      },
      "outputs": [],
      "source": [
        "df['FLAG_OWN_CAR'] = df.FLAG_OWN_CAR.map({'Y': 1,'N': 0})"
      ]
    },
    {
      "cell_type": "code",
      "execution_count": null,
      "metadata": {
        "colab": {
          "base_uri": "https://localhost:8080/",
          "height": 357
        },
        "id": "7wOoFk11ELpJ",
        "outputId": "890ce541-6325-4706-ae81-8d677fb4eef1"
      },
      "outputs": [
        {
          "output_type": "execute_result",
          "data": {
            "text/plain": [
              "        ID CODE_GENDER  FLAG_OWN_CAR  FLAG_OWN_REALTY CNT_CHILDREN  \\\n",
              "0  5065438           F             1                0  2+ children   \n",
              "1  5142753           F             0                0  No children   \n",
              "2  5111146           M             1                1  No children   \n",
              "3  5010310           F             1                1   1 children   \n",
              "4  5010835           M             1                1  2+ children   \n",
              "\n",
              "   AMT_INCOME_TOTAL            NAME_EDUCATION_TYPE    NAME_FAMILY_STATUS  \\\n",
              "0          270000.0  Secondary / secondary special               Married   \n",
              "1           81000.0  Secondary / secondary special  Single / not married   \n",
              "2          270000.0               Higher education               Married   \n",
              "3          112500.0  Secondary / secondary special               Married   \n",
              "4          139500.0  Secondary / secondary special               Married   \n",
              "\n",
              "   NAME_HOUSING_TYPE  DAYS_BIRTH  DAYS_EMPLOYED  FLAG_MOBIL  FLAG_WORK_PHONE  \\\n",
              "0       With parents      -13258          -2300           1                0   \n",
              "1  House / apartment      -17876           -377           1                1   \n",
              "2  House / apartment      -19579          -1028           1                0   \n",
              "3  House / apartment      -15109          -1956           1                0   \n",
              "4  House / apartment      -17281          -5578           1                1   \n",
              "\n",
              "   FLAG_PHONE  FLAG_EMAIL                    JOB  BEGIN_MONTHS STATUS  TARGET  \n",
              "0           0           0               Managers            -6      C       0  \n",
              "1           1           0  Private service staff            -4      0       0  \n",
              "2           1           0               Laborers             0      C       0  \n",
              "3           0           0             Core staff            -3      0       0  \n",
              "4           0           0                Drivers           -29      0       0  "
            ],
            "text/html": [
              "\n",
              "  <div id=\"df-1f05ec0b-8d69-41a4-84e1-26f7144dea12\">\n",
              "    <div class=\"colab-df-container\">\n",
              "      <div>\n",
              "<style scoped>\n",
              "    .dataframe tbody tr th:only-of-type {\n",
              "        vertical-align: middle;\n",
              "    }\n",
              "\n",
              "    .dataframe tbody tr th {\n",
              "        vertical-align: top;\n",
              "    }\n",
              "\n",
              "    .dataframe thead th {\n",
              "        text-align: right;\n",
              "    }\n",
              "</style>\n",
              "<table border=\"1\" class=\"dataframe\">\n",
              "  <thead>\n",
              "    <tr style=\"text-align: right;\">\n",
              "      <th></th>\n",
              "      <th>ID</th>\n",
              "      <th>CODE_GENDER</th>\n",
              "      <th>FLAG_OWN_CAR</th>\n",
              "      <th>FLAG_OWN_REALTY</th>\n",
              "      <th>CNT_CHILDREN</th>\n",
              "      <th>AMT_INCOME_TOTAL</th>\n",
              "      <th>NAME_EDUCATION_TYPE</th>\n",
              "      <th>NAME_FAMILY_STATUS</th>\n",
              "      <th>NAME_HOUSING_TYPE</th>\n",
              "      <th>DAYS_BIRTH</th>\n",
              "      <th>DAYS_EMPLOYED</th>\n",
              "      <th>FLAG_MOBIL</th>\n",
              "      <th>FLAG_WORK_PHONE</th>\n",
              "      <th>FLAG_PHONE</th>\n",
              "      <th>FLAG_EMAIL</th>\n",
              "      <th>JOB</th>\n",
              "      <th>BEGIN_MONTHS</th>\n",
              "      <th>STATUS</th>\n",
              "      <th>TARGET</th>\n",
              "    </tr>\n",
              "  </thead>\n",
              "  <tbody>\n",
              "    <tr>\n",
              "      <th>0</th>\n",
              "      <td>5065438</td>\n",
              "      <td>F</td>\n",
              "      <td>1</td>\n",
              "      <td>0</td>\n",
              "      <td>2+ children</td>\n",
              "      <td>270000.0</td>\n",
              "      <td>Secondary / secondary special</td>\n",
              "      <td>Married</td>\n",
              "      <td>With parents</td>\n",
              "      <td>-13258</td>\n",
              "      <td>-2300</td>\n",
              "      <td>1</td>\n",
              "      <td>0</td>\n",
              "      <td>0</td>\n",
              "      <td>0</td>\n",
              "      <td>Managers</td>\n",
              "      <td>-6</td>\n",
              "      <td>C</td>\n",
              "      <td>0</td>\n",
              "    </tr>\n",
              "    <tr>\n",
              "      <th>1</th>\n",
              "      <td>5142753</td>\n",
              "      <td>F</td>\n",
              "      <td>0</td>\n",
              "      <td>0</td>\n",
              "      <td>No children</td>\n",
              "      <td>81000.0</td>\n",
              "      <td>Secondary / secondary special</td>\n",
              "      <td>Single / not married</td>\n",
              "      <td>House / apartment</td>\n",
              "      <td>-17876</td>\n",
              "      <td>-377</td>\n",
              "      <td>1</td>\n",
              "      <td>1</td>\n",
              "      <td>1</td>\n",
              "      <td>0</td>\n",
              "      <td>Private service staff</td>\n",
              "      <td>-4</td>\n",
              "      <td>0</td>\n",
              "      <td>0</td>\n",
              "    </tr>\n",
              "    <tr>\n",
              "      <th>2</th>\n",
              "      <td>5111146</td>\n",
              "      <td>M</td>\n",
              "      <td>1</td>\n",
              "      <td>1</td>\n",
              "      <td>No children</td>\n",
              "      <td>270000.0</td>\n",
              "      <td>Higher education</td>\n",
              "      <td>Married</td>\n",
              "      <td>House / apartment</td>\n",
              "      <td>-19579</td>\n",
              "      <td>-1028</td>\n",
              "      <td>1</td>\n",
              "      <td>0</td>\n",
              "      <td>1</td>\n",
              "      <td>0</td>\n",
              "      <td>Laborers</td>\n",
              "      <td>0</td>\n",
              "      <td>C</td>\n",
              "      <td>0</td>\n",
              "    </tr>\n",
              "    <tr>\n",
              "      <th>3</th>\n",
              "      <td>5010310</td>\n",
              "      <td>F</td>\n",
              "      <td>1</td>\n",
              "      <td>1</td>\n",
              "      <td>1 children</td>\n",
              "      <td>112500.0</td>\n",
              "      <td>Secondary / secondary special</td>\n",
              "      <td>Married</td>\n",
              "      <td>House / apartment</td>\n",
              "      <td>-15109</td>\n",
              "      <td>-1956</td>\n",
              "      <td>1</td>\n",
              "      <td>0</td>\n",
              "      <td>0</td>\n",
              "      <td>0</td>\n",
              "      <td>Core staff</td>\n",
              "      <td>-3</td>\n",
              "      <td>0</td>\n",
              "      <td>0</td>\n",
              "    </tr>\n",
              "    <tr>\n",
              "      <th>4</th>\n",
              "      <td>5010835</td>\n",
              "      <td>M</td>\n",
              "      <td>1</td>\n",
              "      <td>1</td>\n",
              "      <td>2+ children</td>\n",
              "      <td>139500.0</td>\n",
              "      <td>Secondary / secondary special</td>\n",
              "      <td>Married</td>\n",
              "      <td>House / apartment</td>\n",
              "      <td>-17281</td>\n",
              "      <td>-5578</td>\n",
              "      <td>1</td>\n",
              "      <td>1</td>\n",
              "      <td>0</td>\n",
              "      <td>0</td>\n",
              "      <td>Drivers</td>\n",
              "      <td>-29</td>\n",
              "      <td>0</td>\n",
              "      <td>0</td>\n",
              "    </tr>\n",
              "  </tbody>\n",
              "</table>\n",
              "</div>\n",
              "      <button class=\"colab-df-convert\" onclick=\"convertToInteractive('df-1f05ec0b-8d69-41a4-84e1-26f7144dea12')\"\n",
              "              title=\"Convert this dataframe to an interactive table.\"\n",
              "              style=\"display:none;\">\n",
              "        \n",
              "  <svg xmlns=\"http://www.w3.org/2000/svg\" height=\"24px\"viewBox=\"0 0 24 24\"\n",
              "       width=\"24px\">\n",
              "    <path d=\"M0 0h24v24H0V0z\" fill=\"none\"/>\n",
              "    <path d=\"M18.56 5.44l.94 2.06.94-2.06 2.06-.94-2.06-.94-.94-2.06-.94 2.06-2.06.94zm-11 1L8.5 8.5l.94-2.06 2.06-.94-2.06-.94L8.5 2.5l-.94 2.06-2.06.94zm10 10l.94 2.06.94-2.06 2.06-.94-2.06-.94-.94-2.06-.94 2.06-2.06.94z\"/><path d=\"M17.41 7.96l-1.37-1.37c-.4-.4-.92-.59-1.43-.59-.52 0-1.04.2-1.43.59L10.3 9.45l-7.72 7.72c-.78.78-.78 2.05 0 2.83L4 21.41c.39.39.9.59 1.41.59.51 0 1.02-.2 1.41-.59l7.78-7.78 2.81-2.81c.8-.78.8-2.07 0-2.86zM5.41 20L4 18.59l7.72-7.72 1.47 1.35L5.41 20z\"/>\n",
              "  </svg>\n",
              "      </button>\n",
              "      \n",
              "  <style>\n",
              "    .colab-df-container {\n",
              "      display:flex;\n",
              "      flex-wrap:wrap;\n",
              "      gap: 12px;\n",
              "    }\n",
              "\n",
              "    .colab-df-convert {\n",
              "      background-color: #E8F0FE;\n",
              "      border: none;\n",
              "      border-radius: 50%;\n",
              "      cursor: pointer;\n",
              "      display: none;\n",
              "      fill: #1967D2;\n",
              "      height: 32px;\n",
              "      padding: 0 0 0 0;\n",
              "      width: 32px;\n",
              "    }\n",
              "\n",
              "    .colab-df-convert:hover {\n",
              "      background-color: #E2EBFA;\n",
              "      box-shadow: 0px 1px 2px rgba(60, 64, 67, 0.3), 0px 1px 3px 1px rgba(60, 64, 67, 0.15);\n",
              "      fill: #174EA6;\n",
              "    }\n",
              "\n",
              "    [theme=dark] .colab-df-convert {\n",
              "      background-color: #3B4455;\n",
              "      fill: #D2E3FC;\n",
              "    }\n",
              "\n",
              "    [theme=dark] .colab-df-convert:hover {\n",
              "      background-color: #434B5C;\n",
              "      box-shadow: 0px 1px 3px 1px rgba(0, 0, 0, 0.15);\n",
              "      filter: drop-shadow(0px 1px 2px rgba(0, 0, 0, 0.3));\n",
              "      fill: #FFFFFF;\n",
              "    }\n",
              "  </style>\n",
              "\n",
              "      <script>\n",
              "        const buttonEl =\n",
              "          document.querySelector('#df-1f05ec0b-8d69-41a4-84e1-26f7144dea12 button.colab-df-convert');\n",
              "        buttonEl.style.display =\n",
              "          google.colab.kernel.accessAllowed ? 'block' : 'none';\n",
              "\n",
              "        async function convertToInteractive(key) {\n",
              "          const element = document.querySelector('#df-1f05ec0b-8d69-41a4-84e1-26f7144dea12');\n",
              "          const dataTable =\n",
              "            await google.colab.kernel.invokeFunction('convertToInteractive',\n",
              "                                                     [key], {});\n",
              "          if (!dataTable) return;\n",
              "\n",
              "          const docLinkHtml = 'Like what you see? Visit the ' +\n",
              "            '<a target=\"_blank\" href=https://colab.research.google.com/notebooks/data_table.ipynb>data table notebook</a>'\n",
              "            + ' to learn more about interactive tables.';\n",
              "          element.innerHTML = '';\n",
              "          dataTable['output_type'] = 'display_data';\n",
              "          await google.colab.output.renderOutput(dataTable, element);\n",
              "          const docLink = document.createElement('div');\n",
              "          docLink.innerHTML = docLinkHtml;\n",
              "          element.appendChild(docLink);\n",
              "        }\n",
              "      </script>\n",
              "    </div>\n",
              "  </div>\n",
              "  "
            ]
          },
          "metadata": {},
          "execution_count": 9
        }
      ],
      "source": [
        "df['FLAG_OWN_REALTY'] = df.FLAG_OWN_REALTY.map({'Y': 1,'N': 0})\n",
        "df.head()"
      ]
    },
    {
      "cell_type": "markdown",
      "source": [
        "value_counts() = ทำการดูว่าใน columns ว่ามี labels อะไรบ้างอยู่ใน columns"
      ],
      "metadata": {
        "id": "3Vii8lhWgAbF"
      }
    },
    {
      "cell_type": "code",
      "execution_count": null,
      "metadata": {
        "colab": {
          "base_uri": "https://localhost:8080/"
        },
        "id": "lbwMjvAOEf_R",
        "outputId": "b51fa36b-3fae-4442-9b23-04e86a48348a"
      },
      "outputs": [
        {
          "output_type": "execute_result",
          "data": {
            "text/plain": [
              "No children    343151\n",
              "1 children     127695\n",
              "2+ children     66821\n",
              "Name: CNT_CHILDREN, dtype: int64"
            ]
          },
          "metadata": {},
          "execution_count": 10
        }
      ],
      "source": [
        "df.CNT_CHILDREN.value_counts()"
      ]
    },
    {
      "cell_type": "markdown",
      "source": [
        "เปลี่ยนดาต้าประเภท string ให้เป็น 0, 1"
      ],
      "metadata": {
        "id": "USdsh03thJP1"
      }
    },
    {
      "cell_type": "code",
      "execution_count": null,
      "metadata": {
        "colab": {
          "base_uri": "https://localhost:8080/",
          "height": 357
        },
        "id": "bFfDpl5ME5qn",
        "outputId": "4cd560e0-6d60-4269-e70c-812a41d33135"
      },
      "outputs": [
        {
          "output_type": "execute_result",
          "data": {
            "text/plain": [
              "        ID CODE_GENDER  FLAG_OWN_CAR  FLAG_OWN_REALTY  CNT_CHILDREN  \\\n",
              "0  5065438           F             1                0             2   \n",
              "1  5142753           F             0                0             0   \n",
              "2  5111146           M             1                1             0   \n",
              "3  5010310           F             1                1             1   \n",
              "4  5010835           M             1                1             2   \n",
              "\n",
              "   AMT_INCOME_TOTAL            NAME_EDUCATION_TYPE    NAME_FAMILY_STATUS  \\\n",
              "0          270000.0  Secondary / secondary special               Married   \n",
              "1           81000.0  Secondary / secondary special  Single / not married   \n",
              "2          270000.0               Higher education               Married   \n",
              "3          112500.0  Secondary / secondary special               Married   \n",
              "4          139500.0  Secondary / secondary special               Married   \n",
              "\n",
              "   NAME_HOUSING_TYPE  DAYS_BIRTH  DAYS_EMPLOYED  FLAG_MOBIL  FLAG_WORK_PHONE  \\\n",
              "0       With parents      -13258          -2300           1                0   \n",
              "1  House / apartment      -17876           -377           1                1   \n",
              "2  House / apartment      -19579          -1028           1                0   \n",
              "3  House / apartment      -15109          -1956           1                0   \n",
              "4  House / apartment      -17281          -5578           1                1   \n",
              "\n",
              "   FLAG_PHONE  FLAG_EMAIL                    JOB  BEGIN_MONTHS STATUS  TARGET  \n",
              "0           0           0               Managers            -6      C       0  \n",
              "1           1           0  Private service staff            -4      0       0  \n",
              "2           1           0               Laborers             0      C       0  \n",
              "3           0           0             Core staff            -3      0       0  \n",
              "4           0           0                Drivers           -29      0       0  "
            ],
            "text/html": [
              "\n",
              "  <div id=\"df-b1d621cc-f1ac-4331-8001-44e13f65feac\">\n",
              "    <div class=\"colab-df-container\">\n",
              "      <div>\n",
              "<style scoped>\n",
              "    .dataframe tbody tr th:only-of-type {\n",
              "        vertical-align: middle;\n",
              "    }\n",
              "\n",
              "    .dataframe tbody tr th {\n",
              "        vertical-align: top;\n",
              "    }\n",
              "\n",
              "    .dataframe thead th {\n",
              "        text-align: right;\n",
              "    }\n",
              "</style>\n",
              "<table border=\"1\" class=\"dataframe\">\n",
              "  <thead>\n",
              "    <tr style=\"text-align: right;\">\n",
              "      <th></th>\n",
              "      <th>ID</th>\n",
              "      <th>CODE_GENDER</th>\n",
              "      <th>FLAG_OWN_CAR</th>\n",
              "      <th>FLAG_OWN_REALTY</th>\n",
              "      <th>CNT_CHILDREN</th>\n",
              "      <th>AMT_INCOME_TOTAL</th>\n",
              "      <th>NAME_EDUCATION_TYPE</th>\n",
              "      <th>NAME_FAMILY_STATUS</th>\n",
              "      <th>NAME_HOUSING_TYPE</th>\n",
              "      <th>DAYS_BIRTH</th>\n",
              "      <th>DAYS_EMPLOYED</th>\n",
              "      <th>FLAG_MOBIL</th>\n",
              "      <th>FLAG_WORK_PHONE</th>\n",
              "      <th>FLAG_PHONE</th>\n",
              "      <th>FLAG_EMAIL</th>\n",
              "      <th>JOB</th>\n",
              "      <th>BEGIN_MONTHS</th>\n",
              "      <th>STATUS</th>\n",
              "      <th>TARGET</th>\n",
              "    </tr>\n",
              "  </thead>\n",
              "  <tbody>\n",
              "    <tr>\n",
              "      <th>0</th>\n",
              "      <td>5065438</td>\n",
              "      <td>F</td>\n",
              "      <td>1</td>\n",
              "      <td>0</td>\n",
              "      <td>2</td>\n",
              "      <td>270000.0</td>\n",
              "      <td>Secondary / secondary special</td>\n",
              "      <td>Married</td>\n",
              "      <td>With parents</td>\n",
              "      <td>-13258</td>\n",
              "      <td>-2300</td>\n",
              "      <td>1</td>\n",
              "      <td>0</td>\n",
              "      <td>0</td>\n",
              "      <td>0</td>\n",
              "      <td>Managers</td>\n",
              "      <td>-6</td>\n",
              "      <td>C</td>\n",
              "      <td>0</td>\n",
              "    </tr>\n",
              "    <tr>\n",
              "      <th>1</th>\n",
              "      <td>5142753</td>\n",
              "      <td>F</td>\n",
              "      <td>0</td>\n",
              "      <td>0</td>\n",
              "      <td>0</td>\n",
              "      <td>81000.0</td>\n",
              "      <td>Secondary / secondary special</td>\n",
              "      <td>Single / not married</td>\n",
              "      <td>House / apartment</td>\n",
              "      <td>-17876</td>\n",
              "      <td>-377</td>\n",
              "      <td>1</td>\n",
              "      <td>1</td>\n",
              "      <td>1</td>\n",
              "      <td>0</td>\n",
              "      <td>Private service staff</td>\n",
              "      <td>-4</td>\n",
              "      <td>0</td>\n",
              "      <td>0</td>\n",
              "    </tr>\n",
              "    <tr>\n",
              "      <th>2</th>\n",
              "      <td>5111146</td>\n",
              "      <td>M</td>\n",
              "      <td>1</td>\n",
              "      <td>1</td>\n",
              "      <td>0</td>\n",
              "      <td>270000.0</td>\n",
              "      <td>Higher education</td>\n",
              "      <td>Married</td>\n",
              "      <td>House / apartment</td>\n",
              "      <td>-19579</td>\n",
              "      <td>-1028</td>\n",
              "      <td>1</td>\n",
              "      <td>0</td>\n",
              "      <td>1</td>\n",
              "      <td>0</td>\n",
              "      <td>Laborers</td>\n",
              "      <td>0</td>\n",
              "      <td>C</td>\n",
              "      <td>0</td>\n",
              "    </tr>\n",
              "    <tr>\n",
              "      <th>3</th>\n",
              "      <td>5010310</td>\n",
              "      <td>F</td>\n",
              "      <td>1</td>\n",
              "      <td>1</td>\n",
              "      <td>1</td>\n",
              "      <td>112500.0</td>\n",
              "      <td>Secondary / secondary special</td>\n",
              "      <td>Married</td>\n",
              "      <td>House / apartment</td>\n",
              "      <td>-15109</td>\n",
              "      <td>-1956</td>\n",
              "      <td>1</td>\n",
              "      <td>0</td>\n",
              "      <td>0</td>\n",
              "      <td>0</td>\n",
              "      <td>Core staff</td>\n",
              "      <td>-3</td>\n",
              "      <td>0</td>\n",
              "      <td>0</td>\n",
              "    </tr>\n",
              "    <tr>\n",
              "      <th>4</th>\n",
              "      <td>5010835</td>\n",
              "      <td>M</td>\n",
              "      <td>1</td>\n",
              "      <td>1</td>\n",
              "      <td>2</td>\n",
              "      <td>139500.0</td>\n",
              "      <td>Secondary / secondary special</td>\n",
              "      <td>Married</td>\n",
              "      <td>House / apartment</td>\n",
              "      <td>-17281</td>\n",
              "      <td>-5578</td>\n",
              "      <td>1</td>\n",
              "      <td>1</td>\n",
              "      <td>0</td>\n",
              "      <td>0</td>\n",
              "      <td>Drivers</td>\n",
              "      <td>-29</td>\n",
              "      <td>0</td>\n",
              "      <td>0</td>\n",
              "    </tr>\n",
              "  </tbody>\n",
              "</table>\n",
              "</div>\n",
              "      <button class=\"colab-df-convert\" onclick=\"convertToInteractive('df-b1d621cc-f1ac-4331-8001-44e13f65feac')\"\n",
              "              title=\"Convert this dataframe to an interactive table.\"\n",
              "              style=\"display:none;\">\n",
              "        \n",
              "  <svg xmlns=\"http://www.w3.org/2000/svg\" height=\"24px\"viewBox=\"0 0 24 24\"\n",
              "       width=\"24px\">\n",
              "    <path d=\"M0 0h24v24H0V0z\" fill=\"none\"/>\n",
              "    <path d=\"M18.56 5.44l.94 2.06.94-2.06 2.06-.94-2.06-.94-.94-2.06-.94 2.06-2.06.94zm-11 1L8.5 8.5l.94-2.06 2.06-.94-2.06-.94L8.5 2.5l-.94 2.06-2.06.94zm10 10l.94 2.06.94-2.06 2.06-.94-2.06-.94-.94-2.06-.94 2.06-2.06.94z\"/><path d=\"M17.41 7.96l-1.37-1.37c-.4-.4-.92-.59-1.43-.59-.52 0-1.04.2-1.43.59L10.3 9.45l-7.72 7.72c-.78.78-.78 2.05 0 2.83L4 21.41c.39.39.9.59 1.41.59.51 0 1.02-.2 1.41-.59l7.78-7.78 2.81-2.81c.8-.78.8-2.07 0-2.86zM5.41 20L4 18.59l7.72-7.72 1.47 1.35L5.41 20z\"/>\n",
              "  </svg>\n",
              "      </button>\n",
              "      \n",
              "  <style>\n",
              "    .colab-df-container {\n",
              "      display:flex;\n",
              "      flex-wrap:wrap;\n",
              "      gap: 12px;\n",
              "    }\n",
              "\n",
              "    .colab-df-convert {\n",
              "      background-color: #E8F0FE;\n",
              "      border: none;\n",
              "      border-radius: 50%;\n",
              "      cursor: pointer;\n",
              "      display: none;\n",
              "      fill: #1967D2;\n",
              "      height: 32px;\n",
              "      padding: 0 0 0 0;\n",
              "      width: 32px;\n",
              "    }\n",
              "\n",
              "    .colab-df-convert:hover {\n",
              "      background-color: #E2EBFA;\n",
              "      box-shadow: 0px 1px 2px rgba(60, 64, 67, 0.3), 0px 1px 3px 1px rgba(60, 64, 67, 0.15);\n",
              "      fill: #174EA6;\n",
              "    }\n",
              "\n",
              "    [theme=dark] .colab-df-convert {\n",
              "      background-color: #3B4455;\n",
              "      fill: #D2E3FC;\n",
              "    }\n",
              "\n",
              "    [theme=dark] .colab-df-convert:hover {\n",
              "      background-color: #434B5C;\n",
              "      box-shadow: 0px 1px 3px 1px rgba(0, 0, 0, 0.15);\n",
              "      filter: drop-shadow(0px 1px 2px rgba(0, 0, 0, 0.3));\n",
              "      fill: #FFFFFF;\n",
              "    }\n",
              "  </style>\n",
              "\n",
              "      <script>\n",
              "        const buttonEl =\n",
              "          document.querySelector('#df-b1d621cc-f1ac-4331-8001-44e13f65feac button.colab-df-convert');\n",
              "        buttonEl.style.display =\n",
              "          google.colab.kernel.accessAllowed ? 'block' : 'none';\n",
              "\n",
              "        async function convertToInteractive(key) {\n",
              "          const element = document.querySelector('#df-b1d621cc-f1ac-4331-8001-44e13f65feac');\n",
              "          const dataTable =\n",
              "            await google.colab.kernel.invokeFunction('convertToInteractive',\n",
              "                                                     [key], {});\n",
              "          if (!dataTable) return;\n",
              "\n",
              "          const docLinkHtml = 'Like what you see? Visit the ' +\n",
              "            '<a target=\"_blank\" href=https://colab.research.google.com/notebooks/data_table.ipynb>data table notebook</a>'\n",
              "            + ' to learn more about interactive tables.';\n",
              "          element.innerHTML = '';\n",
              "          dataTable['output_type'] = 'display_data';\n",
              "          await google.colab.output.renderOutput(dataTable, element);\n",
              "          const docLink = document.createElement('div');\n",
              "          docLink.innerHTML = docLinkHtml;\n",
              "          element.appendChild(docLink);\n",
              "        }\n",
              "      </script>\n",
              "    </div>\n",
              "  </div>\n",
              "  "
            ]
          },
          "metadata": {},
          "execution_count": 11
        }
      ],
      "source": [
        "df['CNT_CHILDREN'] = df.CNT_CHILDREN.map({'No children': 0,'1 children': 1,'2+ children': 2})\n",
        "df.head()"
      ]
    },
    {
      "cell_type": "code",
      "execution_count": null,
      "metadata": {
        "colab": {
          "base_uri": "https://localhost:8080/"
        },
        "id": "Cafwt088FPYg",
        "outputId": "4fab033b-5d44-4507-c217-4355a637461f"
      },
      "outputs": [
        {
          "output_type": "execute_result",
          "data": {
            "text/plain": [
              "Married                 384003\n",
              "Single / not married     65944\n",
              "Civil marriage           44083\n",
              "Separated                31394\n",
              "Widow                    12243\n",
              "Name: NAME_FAMILY_STATUS, dtype: int64"
            ]
          },
          "metadata": {},
          "execution_count": 12
        }
      ],
      "source": [
        "df.NAME_FAMILY_STATUS.value_counts()"
      ]
    },
    {
      "cell_type": "code",
      "execution_count": null,
      "metadata": {
        "colab": {
          "base_uri": "https://localhost:8080/",
          "height": 357
        },
        "id": "_9NzxXf2FeU_",
        "outputId": "4ac8651a-b5f3-423b-dcca-52e74b44be5e"
      },
      "outputs": [
        {
          "output_type": "execute_result",
          "data": {
            "text/plain": [
              "        ID CODE_GENDER  FLAG_OWN_CAR  FLAG_OWN_REALTY  CNT_CHILDREN  \\\n",
              "0  5065438           F             1                0             2   \n",
              "1  5142753           F             0                0             0   \n",
              "2  5111146           M             1                1             0   \n",
              "3  5010310           F             1                1             1   \n",
              "4  5010835           M             1                1             2   \n",
              "\n",
              "   AMT_INCOME_TOTAL            NAME_EDUCATION_TYPE  NAME_FAMILY_STATUS  \\\n",
              "0          270000.0  Secondary / secondary special                   0   \n",
              "1           81000.0  Secondary / secondary special                   1   \n",
              "2          270000.0               Higher education                   0   \n",
              "3          112500.0  Secondary / secondary special                   0   \n",
              "4          139500.0  Secondary / secondary special                   0   \n",
              "\n",
              "   NAME_HOUSING_TYPE  DAYS_BIRTH  DAYS_EMPLOYED  FLAG_MOBIL  FLAG_WORK_PHONE  \\\n",
              "0       With parents      -13258          -2300           1                0   \n",
              "1  House / apartment      -17876           -377           1                1   \n",
              "2  House / apartment      -19579          -1028           1                0   \n",
              "3  House / apartment      -15109          -1956           1                0   \n",
              "4  House / apartment      -17281          -5578           1                1   \n",
              "\n",
              "   FLAG_PHONE  FLAG_EMAIL                    JOB  BEGIN_MONTHS STATUS  TARGET  \n",
              "0           0           0               Managers            -6      C       0  \n",
              "1           1           0  Private service staff            -4      0       0  \n",
              "2           1           0               Laborers             0      C       0  \n",
              "3           0           0             Core staff            -3      0       0  \n",
              "4           0           0                Drivers           -29      0       0  "
            ],
            "text/html": [
              "\n",
              "  <div id=\"df-06b25a2c-6f03-4c6a-8651-e817aae8ae58\">\n",
              "    <div class=\"colab-df-container\">\n",
              "      <div>\n",
              "<style scoped>\n",
              "    .dataframe tbody tr th:only-of-type {\n",
              "        vertical-align: middle;\n",
              "    }\n",
              "\n",
              "    .dataframe tbody tr th {\n",
              "        vertical-align: top;\n",
              "    }\n",
              "\n",
              "    .dataframe thead th {\n",
              "        text-align: right;\n",
              "    }\n",
              "</style>\n",
              "<table border=\"1\" class=\"dataframe\">\n",
              "  <thead>\n",
              "    <tr style=\"text-align: right;\">\n",
              "      <th></th>\n",
              "      <th>ID</th>\n",
              "      <th>CODE_GENDER</th>\n",
              "      <th>FLAG_OWN_CAR</th>\n",
              "      <th>FLAG_OWN_REALTY</th>\n",
              "      <th>CNT_CHILDREN</th>\n",
              "      <th>AMT_INCOME_TOTAL</th>\n",
              "      <th>NAME_EDUCATION_TYPE</th>\n",
              "      <th>NAME_FAMILY_STATUS</th>\n",
              "      <th>NAME_HOUSING_TYPE</th>\n",
              "      <th>DAYS_BIRTH</th>\n",
              "      <th>DAYS_EMPLOYED</th>\n",
              "      <th>FLAG_MOBIL</th>\n",
              "      <th>FLAG_WORK_PHONE</th>\n",
              "      <th>FLAG_PHONE</th>\n",
              "      <th>FLAG_EMAIL</th>\n",
              "      <th>JOB</th>\n",
              "      <th>BEGIN_MONTHS</th>\n",
              "      <th>STATUS</th>\n",
              "      <th>TARGET</th>\n",
              "    </tr>\n",
              "  </thead>\n",
              "  <tbody>\n",
              "    <tr>\n",
              "      <th>0</th>\n",
              "      <td>5065438</td>\n",
              "      <td>F</td>\n",
              "      <td>1</td>\n",
              "      <td>0</td>\n",
              "      <td>2</td>\n",
              "      <td>270000.0</td>\n",
              "      <td>Secondary / secondary special</td>\n",
              "      <td>0</td>\n",
              "      <td>With parents</td>\n",
              "      <td>-13258</td>\n",
              "      <td>-2300</td>\n",
              "      <td>1</td>\n",
              "      <td>0</td>\n",
              "      <td>0</td>\n",
              "      <td>0</td>\n",
              "      <td>Managers</td>\n",
              "      <td>-6</td>\n",
              "      <td>C</td>\n",
              "      <td>0</td>\n",
              "    </tr>\n",
              "    <tr>\n",
              "      <th>1</th>\n",
              "      <td>5142753</td>\n",
              "      <td>F</td>\n",
              "      <td>0</td>\n",
              "      <td>0</td>\n",
              "      <td>0</td>\n",
              "      <td>81000.0</td>\n",
              "      <td>Secondary / secondary special</td>\n",
              "      <td>1</td>\n",
              "      <td>House / apartment</td>\n",
              "      <td>-17876</td>\n",
              "      <td>-377</td>\n",
              "      <td>1</td>\n",
              "      <td>1</td>\n",
              "      <td>1</td>\n",
              "      <td>0</td>\n",
              "      <td>Private service staff</td>\n",
              "      <td>-4</td>\n",
              "      <td>0</td>\n",
              "      <td>0</td>\n",
              "    </tr>\n",
              "    <tr>\n",
              "      <th>2</th>\n",
              "      <td>5111146</td>\n",
              "      <td>M</td>\n",
              "      <td>1</td>\n",
              "      <td>1</td>\n",
              "      <td>0</td>\n",
              "      <td>270000.0</td>\n",
              "      <td>Higher education</td>\n",
              "      <td>0</td>\n",
              "      <td>House / apartment</td>\n",
              "      <td>-19579</td>\n",
              "      <td>-1028</td>\n",
              "      <td>1</td>\n",
              "      <td>0</td>\n",
              "      <td>1</td>\n",
              "      <td>0</td>\n",
              "      <td>Laborers</td>\n",
              "      <td>0</td>\n",
              "      <td>C</td>\n",
              "      <td>0</td>\n",
              "    </tr>\n",
              "    <tr>\n",
              "      <th>3</th>\n",
              "      <td>5010310</td>\n",
              "      <td>F</td>\n",
              "      <td>1</td>\n",
              "      <td>1</td>\n",
              "      <td>1</td>\n",
              "      <td>112500.0</td>\n",
              "      <td>Secondary / secondary special</td>\n",
              "      <td>0</td>\n",
              "      <td>House / apartment</td>\n",
              "      <td>-15109</td>\n",
              "      <td>-1956</td>\n",
              "      <td>1</td>\n",
              "      <td>0</td>\n",
              "      <td>0</td>\n",
              "      <td>0</td>\n",
              "      <td>Core staff</td>\n",
              "      <td>-3</td>\n",
              "      <td>0</td>\n",
              "      <td>0</td>\n",
              "    </tr>\n",
              "    <tr>\n",
              "      <th>4</th>\n",
              "      <td>5010835</td>\n",
              "      <td>M</td>\n",
              "      <td>1</td>\n",
              "      <td>1</td>\n",
              "      <td>2</td>\n",
              "      <td>139500.0</td>\n",
              "      <td>Secondary / secondary special</td>\n",
              "      <td>0</td>\n",
              "      <td>House / apartment</td>\n",
              "      <td>-17281</td>\n",
              "      <td>-5578</td>\n",
              "      <td>1</td>\n",
              "      <td>1</td>\n",
              "      <td>0</td>\n",
              "      <td>0</td>\n",
              "      <td>Drivers</td>\n",
              "      <td>-29</td>\n",
              "      <td>0</td>\n",
              "      <td>0</td>\n",
              "    </tr>\n",
              "  </tbody>\n",
              "</table>\n",
              "</div>\n",
              "      <button class=\"colab-df-convert\" onclick=\"convertToInteractive('df-06b25a2c-6f03-4c6a-8651-e817aae8ae58')\"\n",
              "              title=\"Convert this dataframe to an interactive table.\"\n",
              "              style=\"display:none;\">\n",
              "        \n",
              "  <svg xmlns=\"http://www.w3.org/2000/svg\" height=\"24px\"viewBox=\"0 0 24 24\"\n",
              "       width=\"24px\">\n",
              "    <path d=\"M0 0h24v24H0V0z\" fill=\"none\"/>\n",
              "    <path d=\"M18.56 5.44l.94 2.06.94-2.06 2.06-.94-2.06-.94-.94-2.06-.94 2.06-2.06.94zm-11 1L8.5 8.5l.94-2.06 2.06-.94-2.06-.94L8.5 2.5l-.94 2.06-2.06.94zm10 10l.94 2.06.94-2.06 2.06-.94-2.06-.94-.94-2.06-.94 2.06-2.06.94z\"/><path d=\"M17.41 7.96l-1.37-1.37c-.4-.4-.92-.59-1.43-.59-.52 0-1.04.2-1.43.59L10.3 9.45l-7.72 7.72c-.78.78-.78 2.05 0 2.83L4 21.41c.39.39.9.59 1.41.59.51 0 1.02-.2 1.41-.59l7.78-7.78 2.81-2.81c.8-.78.8-2.07 0-2.86zM5.41 20L4 18.59l7.72-7.72 1.47 1.35L5.41 20z\"/>\n",
              "  </svg>\n",
              "      </button>\n",
              "      \n",
              "  <style>\n",
              "    .colab-df-container {\n",
              "      display:flex;\n",
              "      flex-wrap:wrap;\n",
              "      gap: 12px;\n",
              "    }\n",
              "\n",
              "    .colab-df-convert {\n",
              "      background-color: #E8F0FE;\n",
              "      border: none;\n",
              "      border-radius: 50%;\n",
              "      cursor: pointer;\n",
              "      display: none;\n",
              "      fill: #1967D2;\n",
              "      height: 32px;\n",
              "      padding: 0 0 0 0;\n",
              "      width: 32px;\n",
              "    }\n",
              "\n",
              "    .colab-df-convert:hover {\n",
              "      background-color: #E2EBFA;\n",
              "      box-shadow: 0px 1px 2px rgba(60, 64, 67, 0.3), 0px 1px 3px 1px rgba(60, 64, 67, 0.15);\n",
              "      fill: #174EA6;\n",
              "    }\n",
              "\n",
              "    [theme=dark] .colab-df-convert {\n",
              "      background-color: #3B4455;\n",
              "      fill: #D2E3FC;\n",
              "    }\n",
              "\n",
              "    [theme=dark] .colab-df-convert:hover {\n",
              "      background-color: #434B5C;\n",
              "      box-shadow: 0px 1px 3px 1px rgba(0, 0, 0, 0.15);\n",
              "      filter: drop-shadow(0px 1px 2px rgba(0, 0, 0, 0.3));\n",
              "      fill: #FFFFFF;\n",
              "    }\n",
              "  </style>\n",
              "\n",
              "      <script>\n",
              "        const buttonEl =\n",
              "          document.querySelector('#df-06b25a2c-6f03-4c6a-8651-e817aae8ae58 button.colab-df-convert');\n",
              "        buttonEl.style.display =\n",
              "          google.colab.kernel.accessAllowed ? 'block' : 'none';\n",
              "\n",
              "        async function convertToInteractive(key) {\n",
              "          const element = document.querySelector('#df-06b25a2c-6f03-4c6a-8651-e817aae8ae58');\n",
              "          const dataTable =\n",
              "            await google.colab.kernel.invokeFunction('convertToInteractive',\n",
              "                                                     [key], {});\n",
              "          if (!dataTable) return;\n",
              "\n",
              "          const docLinkHtml = 'Like what you see? Visit the ' +\n",
              "            '<a target=\"_blank\" href=https://colab.research.google.com/notebooks/data_table.ipynb>data table notebook</a>'\n",
              "            + ' to learn more about interactive tables.';\n",
              "          element.innerHTML = '';\n",
              "          dataTable['output_type'] = 'display_data';\n",
              "          await google.colab.output.renderOutput(dataTable, element);\n",
              "          const docLink = document.createElement('div');\n",
              "          docLink.innerHTML = docLinkHtml;\n",
              "          element.appendChild(docLink);\n",
              "        }\n",
              "      </script>\n",
              "    </div>\n",
              "  </div>\n",
              "  "
            ]
          },
          "metadata": {},
          "execution_count": 13
        }
      ],
      "source": [
        "df['NAME_FAMILY_STATUS'] = df.NAME_FAMILY_STATUS.map({'Single / not married': 1,'Widow': 1,'Separated': 1,'Civil marriage': 0,'Married': 0})\n",
        "df.head()"
      ]
    },
    {
      "cell_type": "code",
      "execution_count": null,
      "metadata": {
        "colab": {
          "base_uri": "https://localhost:8080/"
        },
        "id": "73JVcqFbGl7H",
        "outputId": "50fe68a9-400c-4eb3-9d08-b67d71cebcf5"
      },
      "outputs": [
        {
          "output_type": "execute_result",
          "data": {
            "text/plain": [
              "C    226185\n",
              "0    200930\n",
              "X    102167\n",
              "1      6423\n",
              "5      1087\n",
              "2       542\n",
              "3       181\n",
              "4       152\n",
              "Name: STATUS, dtype: int64"
            ]
          },
          "metadata": {},
          "execution_count": 14
        }
      ],
      "source": [
        "df.STATUS.value_counts()"
      ]
    },
    {
      "cell_type": "code",
      "execution_count": null,
      "metadata": {
        "colab": {
          "base_uri": "https://localhost:8080/",
          "height": 357
        },
        "id": "j_SkEn4rJa6v",
        "outputId": "8ae45072-e8ba-4b7c-bfcf-81df4c6fa3d9"
      },
      "outputs": [
        {
          "output_type": "execute_result",
          "data": {
            "text/plain": [
              "        ID CODE_GENDER  FLAG_OWN_CAR  FLAG_OWN_REALTY  CNT_CHILDREN  \\\n",
              "0  5065438           F             1                0             2   \n",
              "1  5142753           F             0                0             0   \n",
              "2  5111146           M             1                1             0   \n",
              "3  5010310           F             1                1             1   \n",
              "4  5010835           M             1                1             2   \n",
              "\n",
              "   AMT_INCOME_TOTAL            NAME_EDUCATION_TYPE  NAME_FAMILY_STATUS  \\\n",
              "0          270000.0  Secondary / secondary special                   0   \n",
              "1           81000.0  Secondary / secondary special                   1   \n",
              "2          270000.0               Higher education                   0   \n",
              "3          112500.0  Secondary / secondary special                   0   \n",
              "4          139500.0  Secondary / secondary special                   0   \n",
              "\n",
              "   NAME_HOUSING_TYPE  DAYS_BIRTH  DAYS_EMPLOYED  FLAG_MOBIL  FLAG_WORK_PHONE  \\\n",
              "0       With parents      -13258          -2300           1                0   \n",
              "1  House / apartment      -17876           -377           1                1   \n",
              "2  House / apartment      -19579          -1028           1                0   \n",
              "3  House / apartment      -15109          -1956           1                0   \n",
              "4  House / apartment      -17281          -5578           1                1   \n",
              "\n",
              "   FLAG_PHONE  FLAG_EMAIL                    JOB  BEGIN_MONTHS  STATUS  TARGET  \n",
              "0           0           0               Managers            -6       0       0  \n",
              "1           1           0  Private service staff            -4       0       0  \n",
              "2           1           0               Laborers             0       0       0  \n",
              "3           0           0             Core staff            -3       0       0  \n",
              "4           0           0                Drivers           -29       0       0  "
            ],
            "text/html": [
              "\n",
              "  <div id=\"df-8264af6e-3cbc-4ddd-bacc-4fabdd78f457\">\n",
              "    <div class=\"colab-df-container\">\n",
              "      <div>\n",
              "<style scoped>\n",
              "    .dataframe tbody tr th:only-of-type {\n",
              "        vertical-align: middle;\n",
              "    }\n",
              "\n",
              "    .dataframe tbody tr th {\n",
              "        vertical-align: top;\n",
              "    }\n",
              "\n",
              "    .dataframe thead th {\n",
              "        text-align: right;\n",
              "    }\n",
              "</style>\n",
              "<table border=\"1\" class=\"dataframe\">\n",
              "  <thead>\n",
              "    <tr style=\"text-align: right;\">\n",
              "      <th></th>\n",
              "      <th>ID</th>\n",
              "      <th>CODE_GENDER</th>\n",
              "      <th>FLAG_OWN_CAR</th>\n",
              "      <th>FLAG_OWN_REALTY</th>\n",
              "      <th>CNT_CHILDREN</th>\n",
              "      <th>AMT_INCOME_TOTAL</th>\n",
              "      <th>NAME_EDUCATION_TYPE</th>\n",
              "      <th>NAME_FAMILY_STATUS</th>\n",
              "      <th>NAME_HOUSING_TYPE</th>\n",
              "      <th>DAYS_BIRTH</th>\n",
              "      <th>DAYS_EMPLOYED</th>\n",
              "      <th>FLAG_MOBIL</th>\n",
              "      <th>FLAG_WORK_PHONE</th>\n",
              "      <th>FLAG_PHONE</th>\n",
              "      <th>FLAG_EMAIL</th>\n",
              "      <th>JOB</th>\n",
              "      <th>BEGIN_MONTHS</th>\n",
              "      <th>STATUS</th>\n",
              "      <th>TARGET</th>\n",
              "    </tr>\n",
              "  </thead>\n",
              "  <tbody>\n",
              "    <tr>\n",
              "      <th>0</th>\n",
              "      <td>5065438</td>\n",
              "      <td>F</td>\n",
              "      <td>1</td>\n",
              "      <td>0</td>\n",
              "      <td>2</td>\n",
              "      <td>270000.0</td>\n",
              "      <td>Secondary / secondary special</td>\n",
              "      <td>0</td>\n",
              "      <td>With parents</td>\n",
              "      <td>-13258</td>\n",
              "      <td>-2300</td>\n",
              "      <td>1</td>\n",
              "      <td>0</td>\n",
              "      <td>0</td>\n",
              "      <td>0</td>\n",
              "      <td>Managers</td>\n",
              "      <td>-6</td>\n",
              "      <td>0</td>\n",
              "      <td>0</td>\n",
              "    </tr>\n",
              "    <tr>\n",
              "      <th>1</th>\n",
              "      <td>5142753</td>\n",
              "      <td>F</td>\n",
              "      <td>0</td>\n",
              "      <td>0</td>\n",
              "      <td>0</td>\n",
              "      <td>81000.0</td>\n",
              "      <td>Secondary / secondary special</td>\n",
              "      <td>1</td>\n",
              "      <td>House / apartment</td>\n",
              "      <td>-17876</td>\n",
              "      <td>-377</td>\n",
              "      <td>1</td>\n",
              "      <td>1</td>\n",
              "      <td>1</td>\n",
              "      <td>0</td>\n",
              "      <td>Private service staff</td>\n",
              "      <td>-4</td>\n",
              "      <td>0</td>\n",
              "      <td>0</td>\n",
              "    </tr>\n",
              "    <tr>\n",
              "      <th>2</th>\n",
              "      <td>5111146</td>\n",
              "      <td>M</td>\n",
              "      <td>1</td>\n",
              "      <td>1</td>\n",
              "      <td>0</td>\n",
              "      <td>270000.0</td>\n",
              "      <td>Higher education</td>\n",
              "      <td>0</td>\n",
              "      <td>House / apartment</td>\n",
              "      <td>-19579</td>\n",
              "      <td>-1028</td>\n",
              "      <td>1</td>\n",
              "      <td>0</td>\n",
              "      <td>1</td>\n",
              "      <td>0</td>\n",
              "      <td>Laborers</td>\n",
              "      <td>0</td>\n",
              "      <td>0</td>\n",
              "      <td>0</td>\n",
              "    </tr>\n",
              "    <tr>\n",
              "      <th>3</th>\n",
              "      <td>5010310</td>\n",
              "      <td>F</td>\n",
              "      <td>1</td>\n",
              "      <td>1</td>\n",
              "      <td>1</td>\n",
              "      <td>112500.0</td>\n",
              "      <td>Secondary / secondary special</td>\n",
              "      <td>0</td>\n",
              "      <td>House / apartment</td>\n",
              "      <td>-15109</td>\n",
              "      <td>-1956</td>\n",
              "      <td>1</td>\n",
              "      <td>0</td>\n",
              "      <td>0</td>\n",
              "      <td>0</td>\n",
              "      <td>Core staff</td>\n",
              "      <td>-3</td>\n",
              "      <td>0</td>\n",
              "      <td>0</td>\n",
              "    </tr>\n",
              "    <tr>\n",
              "      <th>4</th>\n",
              "      <td>5010835</td>\n",
              "      <td>M</td>\n",
              "      <td>1</td>\n",
              "      <td>1</td>\n",
              "      <td>2</td>\n",
              "      <td>139500.0</td>\n",
              "      <td>Secondary / secondary special</td>\n",
              "      <td>0</td>\n",
              "      <td>House / apartment</td>\n",
              "      <td>-17281</td>\n",
              "      <td>-5578</td>\n",
              "      <td>1</td>\n",
              "      <td>1</td>\n",
              "      <td>0</td>\n",
              "      <td>0</td>\n",
              "      <td>Drivers</td>\n",
              "      <td>-29</td>\n",
              "      <td>0</td>\n",
              "      <td>0</td>\n",
              "    </tr>\n",
              "  </tbody>\n",
              "</table>\n",
              "</div>\n",
              "      <button class=\"colab-df-convert\" onclick=\"convertToInteractive('df-8264af6e-3cbc-4ddd-bacc-4fabdd78f457')\"\n",
              "              title=\"Convert this dataframe to an interactive table.\"\n",
              "              style=\"display:none;\">\n",
              "        \n",
              "  <svg xmlns=\"http://www.w3.org/2000/svg\" height=\"24px\"viewBox=\"0 0 24 24\"\n",
              "       width=\"24px\">\n",
              "    <path d=\"M0 0h24v24H0V0z\" fill=\"none\"/>\n",
              "    <path d=\"M18.56 5.44l.94 2.06.94-2.06 2.06-.94-2.06-.94-.94-2.06-.94 2.06-2.06.94zm-11 1L8.5 8.5l.94-2.06 2.06-.94-2.06-.94L8.5 2.5l-.94 2.06-2.06.94zm10 10l.94 2.06.94-2.06 2.06-.94-2.06-.94-.94-2.06-.94 2.06-2.06.94z\"/><path d=\"M17.41 7.96l-1.37-1.37c-.4-.4-.92-.59-1.43-.59-.52 0-1.04.2-1.43.59L10.3 9.45l-7.72 7.72c-.78.78-.78 2.05 0 2.83L4 21.41c.39.39.9.59 1.41.59.51 0 1.02-.2 1.41-.59l7.78-7.78 2.81-2.81c.8-.78.8-2.07 0-2.86zM5.41 20L4 18.59l7.72-7.72 1.47 1.35L5.41 20z\"/>\n",
              "  </svg>\n",
              "      </button>\n",
              "      \n",
              "  <style>\n",
              "    .colab-df-container {\n",
              "      display:flex;\n",
              "      flex-wrap:wrap;\n",
              "      gap: 12px;\n",
              "    }\n",
              "\n",
              "    .colab-df-convert {\n",
              "      background-color: #E8F0FE;\n",
              "      border: none;\n",
              "      border-radius: 50%;\n",
              "      cursor: pointer;\n",
              "      display: none;\n",
              "      fill: #1967D2;\n",
              "      height: 32px;\n",
              "      padding: 0 0 0 0;\n",
              "      width: 32px;\n",
              "    }\n",
              "\n",
              "    .colab-df-convert:hover {\n",
              "      background-color: #E2EBFA;\n",
              "      box-shadow: 0px 1px 2px rgba(60, 64, 67, 0.3), 0px 1px 3px 1px rgba(60, 64, 67, 0.15);\n",
              "      fill: #174EA6;\n",
              "    }\n",
              "\n",
              "    [theme=dark] .colab-df-convert {\n",
              "      background-color: #3B4455;\n",
              "      fill: #D2E3FC;\n",
              "    }\n",
              "\n",
              "    [theme=dark] .colab-df-convert:hover {\n",
              "      background-color: #434B5C;\n",
              "      box-shadow: 0px 1px 3px 1px rgba(0, 0, 0, 0.15);\n",
              "      filter: drop-shadow(0px 1px 2px rgba(0, 0, 0, 0.3));\n",
              "      fill: #FFFFFF;\n",
              "    }\n",
              "  </style>\n",
              "\n",
              "      <script>\n",
              "        const buttonEl =\n",
              "          document.querySelector('#df-8264af6e-3cbc-4ddd-bacc-4fabdd78f457 button.colab-df-convert');\n",
              "        buttonEl.style.display =\n",
              "          google.colab.kernel.accessAllowed ? 'block' : 'none';\n",
              "\n",
              "        async function convertToInteractive(key) {\n",
              "          const element = document.querySelector('#df-8264af6e-3cbc-4ddd-bacc-4fabdd78f457');\n",
              "          const dataTable =\n",
              "            await google.colab.kernel.invokeFunction('convertToInteractive',\n",
              "                                                     [key], {});\n",
              "          if (!dataTable) return;\n",
              "\n",
              "          const docLinkHtml = 'Like what you see? Visit the ' +\n",
              "            '<a target=\"_blank\" href=https://colab.research.google.com/notebooks/data_table.ipynb>data table notebook</a>'\n",
              "            + ' to learn more about interactive tables.';\n",
              "          element.innerHTML = '';\n",
              "          dataTable['output_type'] = 'display_data';\n",
              "          await google.colab.output.renderOutput(dataTable, element);\n",
              "          const docLink = document.createElement('div');\n",
              "          docLink.innerHTML = docLinkHtml;\n",
              "          element.appendChild(docLink);\n",
              "        }\n",
              "      </script>\n",
              "    </div>\n",
              "  </div>\n",
              "  "
            ]
          },
          "metadata": {},
          "execution_count": 15
        }
      ],
      "source": [
        "df['STATUS'] =  df['STATUS'].map({'0':0,'1':0,'2':0,'3':1,'4':2,'5':3,'X':0,'C':0})\n",
        "df.head()"
      ]
    },
    {
      "cell_type": "markdown",
      "source": [
        "y_c ตัวสำหรับเป็นผลเฉลย\n",
        "x_c ตัวที่ใช้เพื่อทำนายผลเฉลย"
      ],
      "metadata": {
        "id": "UFaEH1KCh2xY"
      }
    },
    {
      "cell_type": "code",
      "execution_count": null,
      "metadata": {
        "id": "6hoZ6ixrIZMY"
      },
      "outputs": [],
      "source": [
        "y_c = df[\"TARGET\"]\n",
        "x_c = df[[\"FLAG_OWN_CAR\",\"FLAG_OWN_REALTY\",\"CNT_CHILDREN\",\"AMT_INCOME_TOTAL\",\"FLAG_WORK_PHONE\",\"FLAG_PHONE\",\"FLAG_EMAIL\",\"STATUS\"]] # Type will need to be transformed"
      ]
    },
    {
      "cell_type": "markdown",
      "source": [
        "เป็นการแยกข้อมูลเพื่อนำมาทดสอบ 30 เปอร์เซ็นต์ และ สอน 70 เปอร์เซ็นต์"
      ],
      "metadata": {
        "id": "QHD43ZB3jo17"
      }
    },
    {
      "cell_type": "code",
      "execution_count": null,
      "metadata": {
        "id": "rH5lIg6yIzhg"
      },
      "outputs": [],
      "source": [
        "X_train, X_test, y_train, y_test = train_test_split(x_c, y_c, test_size=0.3)\n"
      ]
    },
    {
      "cell_type": "code",
      "source": [
        "x_name = [\"FLAG_OWN_CAR\",\"FLAG_OWN_REALTY\",\"CNT_CHILDREN\",\"AMT_INCOME_TOTAL\",\"FLAG_WORK_PHONE\",\"FLAG_PHONE\",\"FLAG_EMAIL\",\"STATUS\"]"
      ],
      "metadata": {
        "id": "xgwSmtMj523c"
      },
      "execution_count": null,
      "outputs": []
    },
    {
      "cell_type": "markdown",
      "source": [
        "#DecisionTree"
      ],
      "metadata": {
        "id": "I9x1zaWvCBg0"
      }
    },
    {
      "cell_type": "markdown",
      "metadata": {
        "id": "KPxRZsEKS4UM"
      },
      "source": [
        "entropy คือ วิธีการแบ่งข้อมูล ซึ่งมีวิธีการคำนวณแตกต่างกันไปในแต่ละวิธีการแบ่ง\n",
        "hyper parameter เช่น criterion ประกอบด้วย gini entropy log_loss"
      ]
    },
    {
      "cell_type": "code",
      "execution_count": null,
      "metadata": {
        "id": "fWDNSvGxKrhv"
      },
      "outputs": [],
      "source": [
        "x_name = [\"FLAG_OWN_CAR\",\"FLAG_OWN_REALTY\",\"CNT_CHILDREN\",\"AMT_INCOME_TOTAL\",\"FLAG_WORK_PHONE\",\"FLAG_PHONE\",\"FLAG_EMAIL\",\"STATUS\"]"
      ]
    },
    {
      "cell_type": "code",
      "execution_count": null,
      "metadata": {
        "colab": {
          "base_uri": "https://localhost:8080/"
        },
        "id": "9PaEXznrLIzn",
        "outputId": "2b937e4e-b8cb-47f5-fc21-fbbbe7bfb022"
      },
      "outputs": [
        {
          "output_type": "stream",
          "name": "stdout",
          "text": [
            "Looking in indexes: https://pypi.org/simple, https://us-python.pkg.dev/colab-wheels/public/simple/\n",
            "Requirement already satisfied: six in /usr/local/lib/python3.9/dist-packages (1.15.0)\n"
          ]
        }
      ],
      "source": [
        "!pip install six"
      ]
    },
    {
      "cell_type": "code",
      "execution_count": null,
      "metadata": {
        "colab": {
          "base_uri": "https://localhost:8080/"
        },
        "id": "9KIfCHqCLik3",
        "outputId": "8caa01f7-092d-4703-a55e-11e664067233"
      },
      "outputs": [
        {
          "output_type": "stream",
          "name": "stdout",
          "text": [
            "[0.99892393 0.9990302  0.99896377 0.9989372  0.99907005]\n"
          ]
        }
      ],
      "source": [
        "# Create a classifier\n",
        "decTree = tree.DecisionTreeClassifier(criterion=\"entropy\", max_depth=3)\n",
        "\n",
        "scores = cross_val_score(decTree, X_train, y_train, cv=5)\n",
        "\n",
        "print(scores)"
      ]
    },
    {
      "cell_type": "markdown",
      "source": [
        "นำข้อมูลมาหาความสัมพันธ์ x_train กับ y_train แล้วนำ model มาใส่ใน decTree\n",
        "\n"
      ],
      "metadata": {
        "id": "4kNPuizkn-qf"
      }
    },
    {
      "cell_type": "code",
      "execution_count": null,
      "metadata": {
        "id": "NVYkL6BLLoUW"
      },
      "outputs": [],
      "source": [
        "decTree = decTree.fit(X_train, y_train)"
      ]
    },
    {
      "cell_type": "markdown",
      "source": [
        "เป็นการบอกความแม่นยำของ model"
      ],
      "metadata": {
        "id": "e_6_n6Shoy3K"
      }
    },
    {
      "cell_type": "code",
      "execution_count": null,
      "metadata": {
        "colab": {
          "base_uri": "https://localhost:8080/"
        },
        "id": "k0kQi9VlLu6-",
        "outputId": "70045dab-df2f-4ee2-e45a-5284d131d69f"
      },
      "outputs": [
        {
          "output_type": "execute_result",
          "data": {
            "text/plain": [
              "0.9990080656660529"
            ]
          },
          "metadata": {},
          "execution_count": 23
        }
      ],
      "source": [
        "decTree.score(X_test, y_test)\n"
      ]
    },
    {
      "cell_type": "code",
      "source": [
        "# Print tree\n",
        "from sklearn.tree import export_text\n",
        "\n",
        "r = export_text(decTree, feature_names=x_name)\n",
        "print(r)"
      ],
      "metadata": {
        "colab": {
          "base_uri": "https://localhost:8080/"
        },
        "id": "dWWr57gojgcq",
        "outputId": "b40617e5-753c-4d41-d443-ce4d4ae48809"
      },
      "execution_count": null,
      "outputs": [
        {
          "output_type": "stream",
          "name": "stdout",
          "text": [
            "|--- STATUS <= 0.50\n",
            "|   |--- AMT_INCOME_TOTAL <= 110250.00\n",
            "|   |   |--- AMT_INCOME_TOTAL <= 106875.00\n",
            "|   |   |   |--- class: 0\n",
            "|   |   |--- AMT_INCOME_TOTAL >  106875.00\n",
            "|   |   |   |--- class: 0\n",
            "|   |--- AMT_INCOME_TOTAL >  110250.00\n",
            "|   |   |--- AMT_INCOME_TOTAL <= 255600.00\n",
            "|   |   |   |--- class: 0\n",
            "|   |   |--- AMT_INCOME_TOTAL >  255600.00\n",
            "|   |   |   |--- class: 0\n",
            "|--- STATUS >  0.50\n",
            "|   |--- class: 1\n",
            "\n"
          ]
        }
      ]
    },
    {
      "cell_type": "markdown",
      "source": [
        "นำ x_test มาทดสอบกับโมเดลว่ามีความแม่นยำไหม"
      ],
      "metadata": {
        "id": "OwS9B3ESpMEM"
      }
    },
    {
      "cell_type": "code",
      "execution_count": null,
      "metadata": {
        "id": "mnCM5lUxL0EX"
      },
      "outputs": [],
      "source": [
        "y_pred = decTree.predict(X_test)"
      ]
    },
    {
      "cell_type": "markdown",
      "source": [
        "cm เป็นเครื่องมือที่ใช้ในการประเมินประสิทธิภาพของ ai จะเปรียบเทียบตัวที่ทำนายกับตัวเฉลย"
      ],
      "metadata": {
        "id": "FFDZ2XFWonYN"
      }
    },
    {
      "cell_type": "code",
      "execution_count": null,
      "metadata": {
        "id": "lPEHpOHoL2If"
      },
      "outputs": [],
      "source": [
        "cm = confusion_matrix(y_test, y_pred)"
      ]
    },
    {
      "cell_type": "markdown",
      "source": [
        "ตารางที่แสดงข้อมูล ว่าโมเดลมีการทำนายข้อมูลว่าออกมาว่าทำนายผิดกี่ตัวถูกกี่ตัว"
      ],
      "metadata": {
        "id": "NcELInxJpYgl"
      }
    },
    {
      "cell_type": "code",
      "execution_count": null,
      "metadata": {
        "colab": {
          "base_uri": "https://localhost:8080/",
          "height": 282
        },
        "id": "rFGhqtyML5c_",
        "outputId": "a1bb201d-00ee-411a-9e24-b5d62c3ab13c"
      },
      "outputs": [
        {
          "output_type": "display_data",
          "data": {
            "text/plain": [
              "<Figure size 432x288 with 2 Axes>"
            ],
            "image/png": "[encoded data removed]"
          },
          "metadata": {
            "needs_background": "light"
          }
        }
      ],
      "source": [
        "y_names =[\"0\",\"1\"]\n",
        "\n",
        "disp = ConfusionMatrixDisplay(confusion_matrix=cm, display_labels=y_names)\n",
        "\n",
        "disp.plot()\n",
        "\n",
        "plt.show()"
      ]
    },
    {
      "cell_type": "markdown",
      "source": [
        "เป็นการรายงานผลว่าข้อมูลที่ทำนายถูกกี่ เปอร์เซ็นต์"
      ],
      "metadata": {
        "id": "oMX08FlJp7e9"
      }
    },
    {
      "cell_type": "code",
      "execution_count": null,
      "metadata": {
        "colab": {
          "base_uri": "https://localhost:8080/"
        },
        "id": "hlOqbfNcMDeh",
        "outputId": "47b24d91-b679-465b-a4cd-d6d86d2b50ca"
      },
      "outputs": [
        {
          "output_type": "stream",
          "name": "stdout",
          "text": [
            "              precision    recall  f1-score   support\n",
            "\n",
            "           0       1.00      1.00      1.00    160720\n",
            "           1       1.00      0.72      0.84       581\n",
            "\n",
            "    accuracy                           1.00    161301\n",
            "   macro avg       1.00      0.86      0.92    161301\n",
            "weighted avg       1.00      1.00      1.00    161301\n",
            "\n"
          ]
        }
      ],
      "source": [
        "print(classification_report(y_test, y_pred, target_names=y_names))"
      ]
    },
    {
      "cell_type": "markdown",
      "metadata": {
        "id": "_zscw1gARtl9"
      },
      "source": [
        "#Naive Bayes Model"
      ]
    },
    {
      "cell_type": "markdown",
      "source": [
        "เป็นโมเดลการเรียนรู้"
      ],
      "metadata": {
        "id": "IqXMWAeYu_0g"
      }
    },
    {
      "cell_type": "code",
      "execution_count": null,
      "metadata": {
        "id": "sdJy25-gTRSR"
      },
      "outputs": [],
      "source": [
        "gnb = GaussianNB()"
      ]
    },
    {
      "cell_type": "markdown",
      "source": [
        "ทำการนำค่า X_train ไปเทียบ y_train โดยใช้ โมเดล Naive Bayes เพื่อให้ได้ model\n",
        "ที่สอดคล้องกับข้อมูล\n",
        "\n"
      ],
      "metadata": {
        "id": "UPn88ZRJvPgs"
      }
    },
    {
      "cell_type": "code",
      "execution_count": null,
      "metadata": {
        "id": "Xo27FfzOTwG4"
      },
      "outputs": [],
      "source": [
        "gnb = gnb.fit(X_train, y_train)"
      ]
    },
    {
      "cell_type": "markdown",
      "source": [
        "ดูค่าความแม่นของโมเดลที่ทำการสอนโดยดูจาก X_test, y_test"
      ],
      "metadata": {
        "id": "bIgk8mHnvsEM"
      }
    },
    {
      "cell_type": "code",
      "execution_count": null,
      "metadata": {
        "colab": {
          "base_uri": "https://localhost:8080/"
        },
        "id": "wSkEvbL0UISv",
        "outputId": "8f69b5fe-5f2d-4d89-db03-533c1ccbe028"
      },
      "outputs": [
        {
          "output_type": "execute_result",
          "data": {
            "text/plain": [
              "0.9955796926243483"
            ]
          },
          "metadata": {},
          "execution_count": 33
        }
      ],
      "source": [
        "gnb.score(X_test, y_test)"
      ]
    },
    {
      "cell_type": "markdown",
      "source": [
        "ดูแถวที่ 0-5 ของ X_test โดยโอกาส 0.997 จะเป็นลูกค้าที่ดี และ โอกาส 0.003 จะเป็นลูกค้าที่แย่"
      ],
      "metadata": {
        "id": "_2hkZa0pw_WG"
      }
    },
    {
      "cell_type": "code",
      "execution_count": null,
      "metadata": {
        "colab": {
          "base_uri": "https://localhost:8080/"
        },
        "id": "mPyMGG-kULE_",
        "outputId": "cc55b62f-25c3-4b45-b0d0-db99ef06eda9"
      },
      "outputs": [
        {
          "output_type": "execute_result",
          "data": {
            "text/plain": [
              "array([[0.99714317, 0.00285683],\n",
              "       [0.99735217, 0.00264783],\n",
              "       [0.99713997, 0.00286003],\n",
              "       [0.99712594, 0.00287406],\n",
              "       [0.99726533, 0.00273467]])"
            ]
          },
          "metadata": {},
          "execution_count": 34
        }
      ],
      "source": [
        "gnb.predict_proba(X_test[0:5])"
      ]
    },
    {
      "cell_type": "markdown",
      "source": [
        "ตารางที่แสดงข้อมูล ว่าโมเดลมีการทำนายข้อมูลว่าออกมาว่าทำนายผิดกี่ตัวถูกกี่ตัว จะมี false negative 582 , false positive 98 และ true negative 0  "
      ],
      "metadata": {
        "id": "WeqwjMx_00zT"
      }
    },
    {
      "cell_type": "code",
      "execution_count": null,
      "metadata": {
        "colab": {
          "base_uri": "https://localhost:8080/",
          "height": 439
        },
        "id": "EN08UCUCUZwZ",
        "outputId": "565698f7-a5d8-4c82-d286-2f339b679b9b"
      },
      "outputs": [
        {
          "output_type": "display_data",
          "data": {
            "text/plain": [
              "<Figure size 432x288 with 2 Axes>"
            ],
            "image/png": "[encoded data removed]"
          },
          "metadata": {
            "needs_background": "light"
          }
        },
        {
          "output_type": "stream",
          "name": "stdout",
          "text": [
            "              precision    recall  f1-score   support\n",
            "\n",
            "           0       1.00      1.00      1.00    160720\n",
            "           1       0.00      0.00      0.00       581\n",
            "\n",
            "    accuracy                           1.00    161301\n",
            "   macro avg       0.50      0.50      0.50    161301\n",
            "weighted avg       0.99      1.00      0.99    161301\n",
            "\n"
          ]
        }
      ],
      "source": [
        "y_pred_gnb = gnb.predict(X_test)\n",
        "\n",
        "cm = confusion_matrix(y_test, y_pred_gnb)\n",
        "\n",
        "disp = ConfusionMatrixDisplay(confusion_matrix=cm, display_labels=y_names)\n",
        "\n",
        "disp.plot()\n",
        "\n",
        "plt.show()\n",
        "\n",
        "print(classification_report(y_test, y_pred_gnb, target_names=y_names))"
      ]
    },
    {
      "cell_type": "markdown",
      "source": [
        "#K-Nearest Neighbors"
      ],
      "metadata": {
        "id": "ZrJSoK2c-iHJ"
      }
    },
    {
      "cell_type": "markdown",
      "metadata": {
        "id": "GrwQ7YeBdhsN"
      },
      "source": [
        "เป็นโมเดลการเรียนรู้ ที่ใช้สำหรับการจำแนกคลาส (Classification) หรือการทำนายค่า (Prediction) โดย n_neighbors = 5 จะเลือกตัวใกล้ๆกับตัวนั้นมา 5 ตัว\n"
      ]
    },
    {
      "cell_type": "code",
      "execution_count": null,
      "metadata": {
        "id": "Ad34N9BJdoxu"
      },
      "outputs": [],
      "source": [
        "kNN = KNeighborsClassifier(n_neighbors=5)"
      ]
    },
    {
      "cell_type": "markdown",
      "source": [
        "ทำการนำค่า X_train ไปเทียบ y_train โดยใช้ โมเดล KNN เพื่อให้ได้ model ที่สอดคล้องกับข้อมูล"
      ],
      "metadata": {
        "id": "i0-cGGkUEm78"
      }
    },
    {
      "cell_type": "code",
      "execution_count": null,
      "metadata": {
        "id": "nSzoh7I1dpaN"
      },
      "outputs": [],
      "source": [
        "kNN = kNN.fit(X_train, y_train)"
      ]
    },
    {
      "cell_type": "markdown",
      "source": [
        "นำโมเดลที่ทำ เปรียบเทียบกับ X_test y_test"
      ],
      "metadata": {
        "id": "JZsu4X0KHJ11"
      }
    },
    {
      "cell_type": "code",
      "execution_count": null,
      "metadata": {
        "colab": {
          "base_uri": "https://localhost:8080/"
        },
        "id": "mxhR1qeNdrUW",
        "outputId": "e708e544-4099-4c5b-965b-235d88024987"
      },
      "outputs": [
        {
          "output_type": "execute_result",
          "data": {
            "text/plain": [
              "0.9986856870075201"
            ]
          },
          "metadata": {},
          "execution_count": 38
        }
      ],
      "source": [
        "kNN.score(X_test, y_test)"
      ]
    },
    {
      "cell_type": "markdown",
      "source": [
        "ตารางที่แสดงข้อมูล ว่าโมเดลมีการทำนายข้อมูลว่าออกมาว่าทำนายผิดกี่ตัวถูกกี่ตัว"
      ],
      "metadata": {
        "id": "T0JVrdQTHsXF"
      }
    },
    {
      "cell_type": "code",
      "execution_count": null,
      "metadata": {
        "colab": {
          "base_uri": "https://localhost:8080/",
          "height": 438
        },
        "id": "kIfWGxqrd1cG",
        "outputId": "327af314-deda-4add-e0a3-4b54740e8a30"
      },
      "outputs": [
        {
          "output_type": "display_data",
          "data": {
            "text/plain": [
              "<Figure size 432x288 with 2 Axes>"
            ],
            "image/png": "[encoded data removed]"
          },
          "metadata": {
            "needs_background": "light"
          }
        },
        {
          "output_type": "stream",
          "name": "stdout",
          "text": [
            "              precision    recall  f1-score   support\n",
            "\n",
            "           0       1.00      1.00      1.00    160720\n",
            "           1       1.00      0.64      0.78       581\n",
            "\n",
            "    accuracy                           1.00    161301\n",
            "   macro avg       1.00      0.82      0.89    161301\n",
            "weighted avg       1.00      1.00      1.00    161301\n",
            "\n"
          ]
        }
      ],
      "source": [
        "y_pred_knn = kNN.predict(X_test)\n",
        "\n",
        "cm = confusion_matrix(y_test, y_pred_knn)\n",
        "\n",
        "disp = ConfusionMatrixDisplay(confusion_matrix=cm, display_labels=y_names)\n",
        "\n",
        "disp.plot()\n",
        "\n",
        "plt.show()\n",
        "\n",
        "print(classification_report(y_test, y_pred_knn, target_names=y_names))"
      ]
    },
    {
      "cell_type": "markdown",
      "source": [
        "#artificial neural network"
      ],
      "metadata": {
        "id": "sI_nGDwVASHY"
      }
    },
    {
      "cell_type": "code",
      "execution_count": null,
      "metadata": {
        "id": "W2n249O7fRyf"
      },
      "outputs": [],
      "source": [
        "from sklearn.preprocessing import StandardScaler\n",
        "scaler = StandardScaler()\n",
        "\n",
        "scaler.fit(X_train)\n",
        "\n",
        "X_train_scaled = scaler.transform(X_train)\n",
        "X_test_scaled = scaler.transform(X_test)"
      ]
    },
    {
      "cell_type": "markdown",
      "source": [
        "Create and Train ANN Model\n",
        "จะต้องกำหนดโครงสร้าง ANN\n",
        "\n",
        "โดย Input Layer มีจำนวน Node เท่ากับจำนวนคอลัมน์ Attribute\n",
        "ส่วน Output Layer มีจำนวน Node เท่ากับจำนวนค่า Class (Node ไหนให้ค่ามากที่สุด ก็จะเป็น Class นั้น)\n",
        "สิ่งที่ต้องกำหนดเพิ่ม คือ Hidden Layer เช่น (8, 2) คือ มี Hidden Layer 2 ชั้น มี Node อยู่ 8 และ 2 Node ตามลำดับ"
      ],
      "metadata": {
        "id": "bySFS4MvQxPi"
      }
    },
    {
      "cell_type": "code",
      "execution_count": null,
      "metadata": {
        "id": "GumI_FkQfebV"
      },
      "outputs": [],
      "source": [
        "ann = MLPClassifier(solver='lbfgs', alpha=1e-5, hidden_layer_sizes=(8,2))"
      ]
    },
    {
      "cell_type": "code",
      "execution_count": null,
      "metadata": {
        "id": "rc0qjU0NffrX"
      },
      "outputs": [],
      "source": [
        "ann = ann.fit(X_train_scaled, y_train)"
      ]
    },
    {
      "cell_type": "code",
      "execution_count": null,
      "metadata": {
        "colab": {
          "base_uri": "https://localhost:8080/"
        },
        "id": "OArVWMd1f3Mu",
        "outputId": "27520a99-cb6e-47fe-f90d-f48fc1f887d6"
      },
      "outputs": [
        {
          "output_type": "execute_result",
          "data": {
            "text/plain": [
              "0.9990080656660529"
            ]
          },
          "metadata": {},
          "execution_count": 43
        }
      ],
      "source": [
        "ann.score(X_test_scaled, y_test)"
      ]
    },
    {
      "cell_type": "markdown",
      "source": [
        "ann.coefs_ จะเก็บค่า Weight ไว้"
      ],
      "metadata": {
        "id": "mhGWWt3KRFmL"
      }
    },
    {
      "cell_type": "code",
      "execution_count": null,
      "metadata": {
        "colab": {
          "base_uri": "https://localhost:8080/"
        },
        "id": "j0iOSS5Wf74m",
        "outputId": "1f79ddd9-5615-408a-db1d-ae862ed44610"
      },
      "outputs": [
        {
          "output_type": "execute_result",
          "data": {
            "text/plain": [
              "array([[-0.64188094, -1.04153187,  0.48973321,  1.1611563 , -0.39362558,\n",
              "        -0.93769699, -0.81622771,  1.06247416],\n",
              "       [ 0.3305821 ,  0.50655013,  0.08024656, -0.61085855, -0.01327991,\n",
              "         0.46138621, -0.64724513,  0.82665317],\n",
              "       [ 0.4173155 , -0.24470455,  0.01807008, -0.12371512,  0.12720171,\n",
              "         0.40284237, -0.10565061, -0.02698642],\n",
              "       [-0.16845937,  0.05958397,  0.11356199, -0.12143903,  0.06409551,\n",
              "        -0.10079019, -0.03930954,  0.22559752],\n",
              "       [-0.74177598, -0.17495773,  2.30462869, -1.46040033, -0.29686864,\n",
              "        -0.23062425,  0.30280223,  0.19040588],\n",
              "       [ 0.97187435,  0.06745733,  0.42392647,  0.08348269,  0.42067953,\n",
              "        -1.38664115, -0.10647852, -0.42847485],\n",
              "       [ 0.9125546 , -0.4413126 ,  0.61916288, -0.70662446, -0.0722433 ,\n",
              "         0.65473115,  0.00580807, -0.37690628],\n",
              "       [-0.7211246 , -0.31221831, -1.01177996, -0.67300157, -0.1535062 ,\n",
              "        -0.60825401, -0.30417904, -0.49826122]])"
            ]
          },
          "metadata": {},
          "execution_count": 44
        }
      ],
      "source": [
        "ann.coefs_[0]"
      ]
    },
    {
      "cell_type": "markdown",
      "source": [
        "ส่วน intercepts_ จะเป็น Bias ของ Hidden Layer และ Output Layer ไว้"
      ],
      "metadata": {
        "id": "tGc_SQ9ORTBj"
      }
    },
    {
      "cell_type": "code",
      "execution_count": null,
      "metadata": {
        "colab": {
          "base_uri": "https://localhost:8080/"
        },
        "id": "z4TeoAm_f-YA",
        "outputId": "764f3913-f496-4976-dd95-03df727cc146"
      },
      "outputs": [
        {
          "output_type": "execute_result",
          "data": {
            "text/plain": [
              "array([-1.15996333,  0.00226916])"
            ]
          },
          "metadata": {},
          "execution_count": 45
        }
      ],
      "source": [
        "ann.intercepts_[1]"
      ]
    },
    {
      "cell_type": "code",
      "execution_count": null,
      "metadata": {
        "colab": {
          "base_uri": "https://localhost:8080/",
          "height": 438
        },
        "id": "SRcRdtCDgBvm",
        "outputId": "27416342-85d3-4730-e10c-6b8c166cc5b4"
      },
      "outputs": [
        {
          "output_type": "display_data",
          "data": {
            "text/plain": [
              "<Figure size 432x288 with 2 Axes>"
            ],
            "image/png": "[encoded data removed]"
          },
          "metadata": {
            "needs_background": "light"
          }
        },
        {
          "output_type": "stream",
          "name": "stdout",
          "text": [
            "              precision    recall  f1-score   support\n",
            "\n",
            "           0       1.00      1.00      1.00    160720\n",
            "           1       1.00      0.72      0.84       581\n",
            "\n",
            "    accuracy                           1.00    161301\n",
            "   macro avg       1.00      0.86      0.92    161301\n",
            "weighted avg       1.00      1.00      1.00    161301\n",
            "\n"
          ]
        }
      ],
      "source": [
        "y_pred_ann = ann.predict(X_test_scaled)\n",
        "\n",
        "cm = confusion_matrix(y_test, y_pred_ann)\n",
        "\n",
        "disp = ConfusionMatrixDisplay(confusion_matrix=cm, display_labels=y_names)\n",
        "\n",
        "disp.plot()\n",
        "\n",
        "plt.show()\n",
        "print(classification_report(y_test, y_pred_ann, target_names=y_names))"
      ]
    }
  ],
  "metadata": {
    "accelerator": "GPU",
    "colab": {
      "provenance": []
    },
    "gpuClass": "standard",
    "kernelspec": {
      "display_name": "Python 3",
      "name": "python3"
    },
    "language_info": {
      "name": "python"
    }
  },
  "nbformat": 4,
  "nbformat_minor": 0
}